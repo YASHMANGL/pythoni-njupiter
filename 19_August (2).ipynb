{
 "cells": [
  {
   "cell_type": "code",
   "execution_count": 1,
   "id": "30356f5e-baa9-4dbc-86f2-254ef1f1d264",
   "metadata": {},
   "outputs": [
    {
     "name": "stdout",
     "output_type": "stream",
     "text": [
      "Enter 1st number =  85\n",
      "Enter 2nd number = 75\n"
     ]
    },
    {
     "name": "stdout",
     "output_type": "stream",
     "text": [
      "1st number :- 75 \n",
      "2nd number = 85\n"
     ]
    }
   ],
   "source": [
    "#PYTHON BASIC VARIABLE\n",
    "\n",
    "#1.Write a program to swap two integer value without assigning  any other variable\n",
    "a= int(input(\"Enter 1st number = \"))\n",
    "b= int(input(\"Enter 2nd number =\"))\n",
    "a,b=b,a            \n",
    "print(\"1st number :-\",a,\"\\n2nd number =\",b)"
   ]
  },
  {
   "cell_type": "code",
   "execution_count": 2,
   "id": "152d47ef-1ec5-44cd-b816-bbe81ecb3ab0",
   "metadata": {},
   "outputs": [
    {
     "name": "stdout",
     "output_type": "stream",
     "text": [
      "Enter length of rectangle =  50\n",
      "Enter width of rectangle =  47\n"
     ]
    },
    {
     "name": "stdout",
     "output_type": "stream",
     "text": [
      "Area of rectangle =  2350.0\n"
     ]
    }
   ],
   "source": [
    "#2. Program for calculate the area of rectangle\n",
    "a=float(input(\"Enter length of rectangle = \"))\n",
    "b=float(input(\"Enter width of rectangle = \"))\n",
    "c=a*b\n",
    "print(\"Area of rectangle = \",c)"
   ]
  },
  {
   "cell_type": "code",
   "execution_count": 3,
   "id": "af6bc21c-0043-410e-b4be-efa4c99ec7ed",
   "metadata": {},
   "outputs": [
    {
     "name": "stdout",
     "output_type": "stream",
     "text": [
      "Enter temperature in Celsius =  30\n"
     ]
    },
    {
     "name": "stdout",
     "output_type": "stream",
     "text": [
      "Temperature in Fahrenheit =  86.0\n"
     ]
    }
   ],
   "source": [
    "#3.Program for converting Celsius to  Fahrenheit\n",
    "Celsius_temp=float(input(\"Enter temperature in Celsius = \"))\n",
    "Fahrenheit_Temp=1.8*Celsius_temp+32\n",
    "print(\"Temperature in Fahrenheit = \",Fahrenheit_Temp)"
   ]
  },
  {
   "cell_type": "code",
   "execution_count": 4,
   "id": "eff2da98-183c-4e7f-97ef-50abdbb56fce",
   "metadata": {},
   "outputs": [
    {
     "name": "stdout",
     "output_type": "stream",
     "text": [
      "Enter string  Yash Mangla\n"
     ]
    },
    {
     "name": "stdout",
     "output_type": "stream",
     "text": [
      "Length of given string =  11\n"
     ]
    }
   ],
   "source": [
    "#STRING BASED QUESTION\n",
    "\n",
    "#1.Taking input as a string and find its total length\n",
    "a=input(\"Enter string \")\n",
    "print(\"Length of given string = \",len(a))"
   ]
  },
  {
   "cell_type": "code",
   "execution_count": 5,
   "id": "3fb02b96-9608-430f-a526-cf2b529d8d58",
   "metadata": {},
   "outputs": [
    {
     "name": "stdout",
     "output_type": "stream",
     "text": [
      "Enter sentence :  I am pursing btech\n"
     ]
    },
    {
     "name": "stdout",
     "output_type": "stream",
     "text": [
      "5\n"
     ]
    }
   ],
   "source": [
    "#2. Create a program that takes a sentence from the user and counts the number of vowels (a, e, i, o, u) in the string.\n",
    "\n",
    "string=input(\"Enter sentence : \")\n",
    "lower_string=string.lower()\n",
    "\n",
    "count=0\n",
    "vowel=\"aeiou\"\n",
    "for i in lower_string:\n",
    "    if i in vowel:\n",
    "        count+=1\n",
    "print(count)"
   ]
  },
  {
   "cell_type": "code",
   "execution_count": 9,
   "id": "09205a51-d455-4774-81ab-f8964d684b31",
   "metadata": {},
   "outputs": [
    {
     "name": "stdout",
     "output_type": "stream",
     "text": [
      "Enter a string :  YashMangla\n"
     ]
    },
    {
     "name": "stdout",
     "output_type": "stream",
     "text": [
      "algnaMhsaY\n"
     ]
    }
   ],
   "source": [
    "# 3. Given a string, reverse the order of characters using string slicing and print the reversed string.\n",
    "string = input(\"Enter a string : \")\n",
    "reversed_string= string[::-1]\n",
    "print(reversed_string)"
   ]
  },
  {
   "cell_type": "code",
   "execution_count": 10,
   "id": "b900d670-9796-472e-8575-3e6cf26288e2",
   "metadata": {},
   "outputs": [
    {
     "name": "stdout",
     "output_type": "stream",
     "text": [
      "Enter string :  racecar\n"
     ]
    },
    {
     "name": "stdout",
     "output_type": "stream",
     "text": [
      "Given string is palindrome.\n"
     ]
    }
   ],
   "source": [
    "# 4. Write a program that takes a string as input and checks if it is a palindrome\n",
    "string=input(\"Enter string : \")\n",
    "reversed_string = string[::-1]\n",
    "\n",
    "if (string==reversed_string):\n",
    "    print(\"Given string is palindrome.\")\n",
    "else:\n",
    "    print(\"Given string is not palindrome .\")"
   ]
  },
  {
   "cell_type": "code",
   "execution_count": null,
   "id": "f391bc13-f7fa-42ac-9b0e-b3fd477aaba6",
   "metadata": {},
   "outputs": [],
   "source": [
    "#  5. Create a program that takes a string as input and removes all the spaces from it. Print the modified string without spaces.\n",
    "string=input(\"Enter string : \")\n",
    "modified_string=string.replace(\" \",\"\")\n",
    "print(modified_string)"
   ]
  }
 ],
 "metadata": {
  "kernelspec": {
   "display_name": "Python 3 (ipykernel)",
   "language": "python",
   "name": "python3"
  },
  "language_info": {
   "codemirror_mode": {
    "name": "ipython",
    "version": 3
   },
   "file_extension": ".py",
   "mimetype": "text/x-python",
   "name": "python",
   "nbconvert_exporter": "python",
   "pygments_lexer": "ipython3",
   "version": "3.10.8"
  }
 },
 "nbformat": 4,
 "nbformat_minor": 5
}
