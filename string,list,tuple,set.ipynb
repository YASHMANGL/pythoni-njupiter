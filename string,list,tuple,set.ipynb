{
 "cells": [
  {
   "cell_type": "markdown",
   "metadata": {},
   "source": [
    "String "
   ]
  },
  {
   "cell_type": "code",
   "execution_count": null,
   "metadata": {},
   "outputs": [],
   "source": [
    "# 1. Write a program to reverse a string.\n",
    "string= input(\"Enter String : \")\n",
    "reverse_string=string[::-1]\n",
    "print(\"Reverse String :\",reverse_string)"
   ]
  },
  {
   "cell_type": "code",
   "execution_count": null,
   "metadata": {},
   "outputs": [],
   "source": [
    "# 2. Check if a string is a palindrome\n",
    "string= input(\"Enter String : \")\n",
    "reverse_string=string[::-1]\n",
    "\n",
    "if string==reverse_string:\n",
    "    print(\"Given string is palindrome.\")\n",
    "else:\n",
    "    print(\"Given string is not palindrome.\")"
   ]
  },
  {
   "cell_type": "code",
   "execution_count": null,
   "metadata": {},
   "outputs": [],
   "source": [
    "# 3. Convert a string to uppercase\n",
    "string=input(\"Enter string: \")\n",
    "new_string =string.upper()\n",
    "print(new_string)"
   ]
  },
  {
   "cell_type": "code",
   "execution_count": null,
   "metadata": {},
   "outputs": [],
   "source": [
    "# 4. Convert a string to lowercase.\n",
    "string=input(\"Enter string: \")\n",
    "new_string =string.lower()\n",
    "print(new_string)"
   ]
  },
  {
   "cell_type": "code",
   "execution_count": null,
   "metadata": {},
   "outputs": [],
   "source": [
    "# 5. Count the number of vowels in a string.\n",
    "string=input(\"Enter sentence : \")\n",
    "lower_string=string.lower()\n",
    "\n",
    "count=0\n",
    "vowel=\"aeiou\"\n",
    "for i in lower_string:\n",
    "    if i in vowel:\n",
    "        count+=1\n",
    "print(\"Total number of a vowel : \",count)"
   ]
  },
  {
   "cell_type": "code",
   "execution_count": null,
   "metadata": {},
   "outputs": [],
   "source": [
    "# 6. Count the number of consonants in a string.\n",
    "string=input(\"Enter sentence : \")\n",
    "lower_string=string.lower()\n",
    "len_string= len(string)\n",
    "count=0\n",
    "vowel=\"aeiou\"\n",
    "for i in lower_string:\n",
    "    if i in vowel:\n",
    "        count+=1\n",
    "\n",
    "print(\"Total number of consonants :\",len_string -count)"
   ]
  },
  {
   "cell_type": "code",
   "execution_count": null,
   "metadata": {},
   "outputs": [],
   "source": [
    "# 7. Remove all whitespaces from a string.\n",
    "string=input(\"Enter String : \")\n",
    "modified_string=string.replace(\" \",\"\")\n",
    "print(modified_string)"
   ]
  },
  {
   "cell_type": "code",
   "execution_count": null,
   "metadata": {},
   "outputs": [],
   "source": [
    "# 8. Find the length of a string without using the `len()` function.\n",
    "string=input(\"Enter string : \")\n",
    "count=0\n",
    "for i in string:\n",
    "    count+=1\n",
    "\n",
    "print(\"Length of a string :\",count)"
   ]
  },
  {
   "cell_type": "code",
   "execution_count": null,
   "metadata": {},
   "outputs": [],
   "source": [
    "# 9. Check if a string contains a specific word.\n",
    "string= input(\"Enter string : \")\n",
    "specific_word= input(\"Enter specific word : \")\n",
    "\n",
    "if specific_word in string:\n",
    "    print(f\"{specific_word} is present in  given string.\")"
   ]
  },
  {
   "cell_type": "code",
   "execution_count": null,
   "metadata": {},
   "outputs": [],
   "source": [
    "# 10. Replace a word in a string with another word.\n",
    "string=input(\"Enter string : \")\n",
    "specific_word = input(\"Enter string : \")\n",
    "\n",
    "if specific_word in string:\n",
    "    new_word =input(\"Enter new word :\")\n",
    "    print(string.replace(specific_word,new_word))\n",
    "\n",
    "else:\n",
    "    print(\"Pls enter a word which is present in string\")"
   ]
  },
  {
   "cell_type": "code",
   "execution_count": null,
   "metadata": {},
   "outputs": [],
   "source": [
    "# 11. Count the occurrences of a word in a string.\n",
    "input_string=input(\"Enter string :\\n\")\n",
    "special_character=input(\"Enter word : \")\n",
    "count=0\n",
    "\n",
    "list1=input_string.split()\n",
    "for i in list1:\n",
    "    if i==special_character:\n",
    "        count+=1\n",
    "\n",
    "else:\n",
    "    print(f\"THe total number of occurance {input_string} in input string is : \",count)"
   ]
  },
  {
   "cell_type": "code",
   "execution_count": null,
   "metadata": {},
   "outputs": [],
   "source": [
    "# 12. Find the first occurrence of a word in a string.\n",
    "input_string=input(\"Enter string : \\n\")\n",
    "special_word=input(\"Enter word : \")\n",
    "\n",
    "index=input_string.find(special_word)\n",
    "\n",
    "if index== -1:\n",
    "    print(f\"{special_word} in not present in given string\")\n",
    "else:\n",
    "    print(f\"{special_word} is present at index :\",index)"
   ]
  },
  {
   "cell_type": "code",
   "execution_count": null,
   "metadata": {},
   "outputs": [],
   "source": [
    "# 13. Find the last occurrence of a word in a string.\n",
    "input_string=input(\"Enter string : \\n\")\n",
    "special_word=input(\"Enter word : \")\n",
    "\n",
    "index=input_string.rfind(special_word)\n",
    "\n",
    "if index== -1:\n",
    "    print(f\"{special_word} in not present in given string\")\n",
    "else:\n",
    "    print(f\"{special_word} is present at index :\",index)"
   ]
  },
  {
   "cell_type": "code",
   "execution_count": null,
   "metadata": {},
   "outputs": [],
   "source": [
    "# 14. Split a string into a list of words.\n",
    "input_string=input(\"Enter string :\\n\")\n",
    "\n",
    "list1=input_string.split()\n",
    "print(list1)"
   ]
  },
  {
   "cell_type": "code",
   "execution_count": null,
   "metadata": {},
   "outputs": [],
   "source": [
    "# 15. Join a list of words into a string.\n",
    "length=int(input(\"Enter length of list : \"))\n",
    "list1=[]\n",
    "for i in range(length):\n",
    "    list1.append(input(\"Enter element : \"))\n",
    "print(list1)\n",
    "\n",
    "string=\" \".join(list1)\n",
    "print(string)"
   ]
  },
  {
   "cell_type": "code",
   "execution_count": null,
   "metadata": {},
   "outputs": [],
   "source": [
    "# 16. Convert a string where words are separated by spaces to one where words are separated by underscores.\n",
    "input_string=input(\"Enter elements : \")\n",
    "\n",
    "modified_string=input_string.replace(\" \",\"_\")\n",
    "print(\"Modified string : \",modified_string)"
   ]
  },
  {
   "cell_type": "code",
   "execution_count": null,
   "metadata": {},
   "outputs": [],
   "source": [
    "# 17. Check if a string starts with a specific word or phrase.\n",
    "input_string=input(\"Enter string : \\n\")\n",
    "specific_word=input(\"Enter word : \")\n",
    "\n",
    "if input_string.startswith(specific_word):\n",
    "    print(f\"{specific_word} is present at the start of input string.\")\n",
    "else:\n",
    "    print(f\"{specific_word} is not  present at the start of input string.\")"
   ]
  },
  {
   "cell_type": "code",
   "execution_count": null,
   "metadata": {},
   "outputs": [],
   "source": [
    "# 18. Check if a string ends with a specific word or phrase.\n",
    "input_string=input(\"Enter string : \\n\")\n",
    "specific_word=input(\"Enter word : \")\n",
    "\n",
    "if input_string.endswith(specific_word):\n",
    "    print(f\"{specific_word} is present at the end of input string.\")\n",
    "else:\n",
    "    print(f\"{specific_word} is not  present at the end of input string.\")"
   ]
  },
  {
   "cell_type": "code",
   "execution_count": null,
   "metadata": {},
   "outputs": [],
   "source": [
    "# 19. Convert a string to title case (e.g., \"hello world\" to \"Hello World\").\n",
    "input_string=input(\"Enter string : \")\n",
    "string=input_string.title()\n",
    "print(string)"
   ]
  },
  {
   "cell_type": "code",
   "execution_count": null,
   "metadata": {},
   "outputs": [],
   "source": [
    "# 20. Find the longest word in a string.\n",
    "input_string=input(\"Enter string : \")\n",
    "\n",
    "list1=input_string.split()\n",
    "\n",
    "max_len=[]\n",
    "for i in range(len(list1)):\n",
    "    max_len.append(len(list1[i]))\n",
    "a=max(max_len)\n",
    "for i in max_len:\n",
    "    if i==a:\n",
    "        c=max_len.index(a)\n",
    "print(f\"{list1[c]} is the longest word in input string\")"
   ]
  },
  {
   "cell_type": "code",
   "execution_count": null,
   "metadata": {},
   "outputs": [],
   "source": [
    "# 21. Find the shortest word in a string.\n",
    "input_string=input(\"Enter string : \")\n",
    "list1=input_string.split()\n",
    "\n",
    "min_len=[]\n",
    "for i in range(len(list1)):\n",
    "    min_len.append(len(list1[i]))\n",
    "a=min(min_len)\n",
    "for i in min_len:\n",
    "    if i==a:\n",
    "        c=min_len.index(a)\n",
    "print(f\"{list1[c]} is the smallest word in input string\")"
   ]
  },
  {
   "cell_type": "code",
   "execution_count": null,
   "metadata": {},
   "outputs": [],
   "source": [
    "# 22. Reverse the order of words in a string.\n",
    "input_string=input(\"Enter input string : \")\n",
    "list1=input_string.split()\n",
    "\n",
    "for i in range(len(list1)-1,-1,-1):\n",
    "    print(list1[i],end=\" \")"
   ]
  },
  {
   "cell_type": "code",
   "execution_count": null,
   "metadata": {},
   "outputs": [],
   "source": [
    "# 23. Check if a string is alphanumeric.\n",
    "input_string=input(\"Enter string :\")\n",
    "a=input_string.isalnum()\n",
    "\n",
    "if a==True:\n",
    "    print(\"Input string is alphanumeric.\")\n",
    "else:\n",
    "    print(\"Input string is not alphanumeric.\")"
   ]
  },
  {
   "cell_type": "code",
   "execution_count": null,
   "metadata": {},
   "outputs": [],
   "source": [
    "# 24. Extract all digits from a string.\n",
    "input_string=input(\"Enter string : \")\n",
    "for i in input_string:\n",
    "    if \"0\"<=i<=\"9\":\n",
    "        print(i,end=\"\\t\")"
   ]
  },
  {
   "cell_type": "code",
   "execution_count": null,
   "metadata": {},
   "outputs": [],
   "source": [
    "# 25. Extract all alphabets from a string.\n",
    "input_string=input(\"Enter string : \")\n",
    "for i in input_string:\n",
    "    if \"a\"<=i<=\"z\" or \"A\"<=i<=\"Z\":\n",
    "        print(i,end=\" \")"
   ]
  },
  {
   "cell_type": "code",
   "execution_count": null,
   "metadata": {},
   "outputs": [],
   "source": [
    "# 26. Count the number of uppercase letters in a string.\n",
    "input_string=input(\"Enter string : \")\n",
    "count=0\n",
    "for i in input_string:\n",
    "    if \"A\"<=i<=\"Z\":\n",
    "        count+=1\n",
    "print(\"Total number of uppercase in input string : \",count)"
   ]
  },
  {
   "cell_type": "code",
   "execution_count": null,
   "metadata": {},
   "outputs": [],
   "source": [
    "# 27. Count the number of lowercase letters in a string.\n",
    "input_string=input(\"Enter string : \")\n",
    "count=0\n",
    "for i in input_string:\n",
    "    if \"a\"<=i<=\"z\":\n",
    "        count+=1\n",
    "print(\"Total number of uppercase in input string : \",count)"
   ]
  },
  {
   "cell_type": "code",
   "execution_count": null,
   "metadata": {},
   "outputs": [],
   "source": [
    "# 28. Swap the case of each character in a string.\n",
    "input_string=input(\"Enter string :\")\n",
    "new_string=input_string.swapcase()\n",
    "print(new_string)"
   ]
  },
  {
   "cell_type": "code",
   "execution_count": null,
   "metadata": {},
   "outputs": [],
   "source": [
    "# 29. Remove a specific word from a string.\n",
    "input_string=input(\"Enter string : \")\n",
    "specific_word=input(\"Enter word : \")\n",
    "new_string=input_string.replace(specific_word,\"\")\n",
    "print(new_string)"
   ]
  },
  {
   "cell_type": "code",
   "execution_count": null,
   "metadata": {},
   "outputs": [],
   "source": [
    "# 30. Check if a string is a valid email address.\n",
    "input_email=input(\"Enter email : \")\n",
    "if input_email[len(input_email)-10:] == \"@email.com\":\n",
    "    print(\"String has a valid email address.\")\n",
    "else:\n",
    "    print(\"String has not a valid email address.\")"
   ]
  },
  {
   "cell_type": "code",
   "execution_count": null,
   "metadata": {},
   "outputs": [],
   "source": [
    "# 31. Extract the username from an email address string.\n",
    "input_email=input(\"Enter email : \")\n",
    "print(\"user name of input email is : \",input_email[:len(input_email)-10])"
   ]
  },
  {
   "cell_type": "code",
   "execution_count": null,
   "metadata": {},
   "outputs": [],
   "source": [
    "# 32. Extract the domain name from an email address string.\n",
    "input_email=input(\"Enter input email : \")\n",
    "find_index=input_email.index(\"@\")\n",
    "print(\"Domain name of input string : \",input_email[find_index+1:])"
   ]
  },
  {
   "cell_type": "code",
   "execution_count": null,
   "metadata": {},
   "outputs": [],
   "source": [
    "# 33. Replace multiple spaces in a string with a single space.\n",
    "input_string=input(\"Enter string :\\n\")\n",
    "list1=input_string.split()\n",
    "new_string=\" \".join(list1)\n",
    "print(new_string)"
   ]
  },
  {
   "cell_type": "code",
   "execution_count": null,
   "metadata": {},
   "outputs": [],
   "source": [
    "# 34. Check if a string is a valid URL.\n",
    "input_string=input(\"Enter string :\\n\")\n",
    "list1=input_string.split()\n",
    "\n",
    "url=[]\n",
    "for i in list1:\n",
    "    if i.startswith(\"https:\") or i.startswith(\"http:\"):\n",
    "        url.append(i)\n",
    "\n",
    "print(\"URL : \",url)"
   ]
  },
  {
   "cell_type": "code",
   "execution_count": null,
   "metadata": {},
   "outputs": [],
   "source": [
    "# 35. Extract the protocol (http or https) from a URL string.\n",
    "url=input(\"Enter url : \\n\")\n",
    "\n",
    "a=\"\"\n",
    "\n",
    "if url[4]==\"s\":\n",
    "    protocol=\"https\"\n",
    "    a+=protocol\n",
    "elif url [4]==\":\":\n",
    "    protocol=\"http\"\n",
    "    a+=protocol\n",
    "else:\n",
    "    protocol=\"invalid protocal\"\n",
    "    a+=protocol\n",
    "print(protocol)"
   ]
  },
  {
   "cell_type": "code",
   "execution_count": null,
   "metadata": {},
   "outputs": [],
   "source": [
    "# 36. Find the frequency of each character in a string.\n",
    "input_string=input(\"Enter string :\\n\")\n",
    "dic={}\n",
    "\n",
    "for i in input_string:\n",
    "    if i in dic:\n",
    "        dic[i]+=1\n",
    "    else:\n",
    "        dic[i]=1\n",
    "print(dic)"
   ]
  },
  {
   "cell_type": "code",
   "execution_count": null,
   "metadata": {},
   "outputs": [],
   "source": [
    "# 37. Remove all punctuation from a string.\n",
    "import string\n",
    "input_string=input(\"Enter string : \")\n",
    "list1=list(string.punctuation)\n",
    "new_string=input_string\n",
    "for i in list1:\n",
    "    new_string=new_string.replace(i,\"\")\n",
    "print(new_string)"
   ]
  },
  {
   "cell_type": "code",
   "execution_count": null,
   "metadata": {},
   "outputs": [],
   "source": [
    "# 38. Check if a string contains only digits.\n",
    "input_string=input(\"Enter string : \")\n",
    "a=input_string.isdigit()\n",
    "if a==True:\n",
    "    print(\"Input string contain only digits.\")\n",
    "else:\n",
    "    print(\"Input string does not only contain digits.\")"
   ]
  },
  {
   "cell_type": "code",
   "execution_count": null,
   "metadata": {},
   "outputs": [],
   "source": [
    "# 39. Check if a string contains only alphabets.\n",
    "input_string=input(\"Enter string :\")\n",
    "\n",
    "a=input_string.isalpha()\n",
    "if a==True:\n",
    "    print(\"Input string contain only alphabet\")\n",
    "else:\n",
    "    print(\"Input string does not  contain only alphabet\")"
   ]
  },
  {
   "cell_type": "code",
   "execution_count": null,
   "metadata": {},
   "outputs": [],
   "source": [
    "# 40. Convert a string to a list of characters.\n",
    "input_string=input(\"Enter string :\")\n",
    "list1=[]\n",
    "\n",
    "for i in input_string:\n",
    "    list1.append(i)\n",
    "print(list1)"
   ]
  },
  {
   "cell_type": "code",
   "execution_count": null,
   "metadata": {},
   "outputs": [],
   "source": [
    "# 41. Check if two strings are anagrams.\n",
    "input_string1=input(\"Enter string : \")\n",
    "input_string2=input(\"Enter string : \")\n",
    "\n",
    "new_string1=sorted(input_string1)\n",
    "new_string2=sorted(input_string2)\n",
    "\n",
    "if new_string1==new_string2:\n",
    "    print(\"Yes ,string are anagrams.\")\n",
    "else:\n",
    "    print(\"String are not anagrams.\")"
   ]
  },
  {
   "cell_type": "code",
   "execution_count": null,
   "metadata": {},
   "outputs": [],
   "source": [
    "# 42. Encode a string using a Caesar cipher.\n",
    "letters=\"abcdefghijklmnopqrstuvwxyz\"\n",
    "input_sting=input(\"Enter string  :\\n\")\n",
    "n=int(input(\"Enter value : \"))\n",
    "encode=\"\"\n",
    "for i in input_sting:\n",
    "    if i==\" \":\n",
    "        encode+=\" \"\n",
    "    index=letters.find(i)\n",
    "    if index== -1:\n",
    "        encode+=i\n",
    "    else:\n",
    "        new_index=index+n\n",
    "        if new_index>=26:\n",
    "            new_index-=26\n",
    "            encode+=letters[new_index]\n",
    "        else:\n",
    "            encode+=letters[new_index]\n",
    "print(\"ENCRYPTION :\\n\",encode)"
   ]
  },
  {
   "cell_type": "code",
   "execution_count": null,
   "metadata": {},
   "outputs": [],
   "source": [
    "# 43. Decode a Caesar cipher encoded string.\n",
    "letters=\"abcdefghijklmnopqrstuvwxyz\"\n",
    "input_sting=input(\"Enter string  :\\n\")\n",
    "n=int(input(\"Enter value : \"))\n",
    "decode=\"\"\n",
    "for i in input_sting:\n",
    "    if i==\" \":\n",
    "        decode+=\" \"\n",
    "    index=letters.find(i)\n",
    "    if index== -1:\n",
    "        decode+=i\n",
    "    else:\n",
    "        new_index=index-n\n",
    "        if new_index<0:\n",
    "            new_index+=26\n",
    "            decode+=letters[new_index]\n",
    "        else:\n",
    "            decode+=letters[new_index]\n",
    "print(\"DECRYPTION :\\n\",decode)"
   ]
  },
  {
   "cell_type": "code",
   "execution_count": null,
   "metadata": {},
   "outputs": [],
   "source": [
    "# 44. Find the most frequent word in a string.\n",
    "input_string=input(\"Enter string :\\n\")\n",
    "dic={}\n",
    "l=input_string.split()\n",
    "for i in l:\n",
    "    if i in dic:\n",
    "        dic[i]+=1\n",
    "    else:\n",
    "        dic[i]=1\n",
    "print(dic)\n",
    "list1=list(dic.keys())\n",
    "list2=list(dic.values())\n",
    "a=max(list2)\n",
    "b=list2.index(a)\n",
    "c=list1[b]\n",
    "print(\"Most frequent word in input string : \",c)"
   ]
  },
  {
   "cell_type": "code",
   "execution_count": null,
   "metadata": {},
   "outputs": [],
   "source": [
    "# 45. Find all unique words in a string.\n",
    "input_string=input(\"Enter string : \")\n",
    "\n",
    "unique_word=set(input_string.split())\n",
    "print(\"All unique word in input string : \",unique_word)"
   ]
  },
  {
   "cell_type": "code",
   "execution_count": null,
   "metadata": {},
   "outputs": [],
   "source": [
    "# 46. Count the number of syllables in a string.\n",
    "string = \"This is an example string with multiple syllables.\"\n",
    "vowels = \"aeiouy\"\n",
    "syllable_count = 0\n",
    "\n",
    "for word in string.split():\n",
    "    word = word.lower()\n",
    "    prev_char_was_vowel = False\n",
    "    \n",
    "    for char in word:\n",
    "        if char in vowels:\n",
    "            if not prev_char_was_vowel:\n",
    "                syllable_count += 1\n",
    "            prev_char_was_vowel = True\n",
    "        else:\n",
    "            prev_char_was_vowel = False\n",
    "    \n",
    "    if word.endswith('e') and syllable_count > 1:\n",
    "        syllable_count -= 1\n",
    "\n",
    "print(\"Total syllables:\", syllable_count)"
   ]
  },
  {
   "cell_type": "code",
   "execution_count": null,
   "metadata": {},
   "outputs": [],
   "source": [
    "# 47. Check if a string contains any special characters.\n",
    "import random\n",
    "import string\n",
    "input_string=input(\"Enter string : \")\n",
    "a=list(string.punctuation)\n",
    "\n",
    "condition=False\n",
    "for i in input_string:\n",
    "    if i in a:\n",
    "        condition=True\n",
    "        break\n",
    "    else:\n",
    "        condition=False\n",
    "\n",
    "if condition==True:\n",
    "    print(\"Special character is present in input string.\")\n",
    "else:\n",
    "    print(\"Special character is not present in input string.\")"
   ]
  },
  {
   "cell_type": "code",
   "execution_count": null,
   "metadata": {},
   "outputs": [],
   "source": [
    "# 48. Remove the nth word from a string.\n",
    "input_string=input(\"Enter string : \")\n",
    "n=int(input(\"Enter the value at which you want to remove : \"))\n",
    "list1=input_string.split()\n",
    "\n",
    "list1.remove(list1[n-1])\n",
    "new_string=\" \".join(list1)\n",
    "print(new_string)"
   ]
  },
  {
   "cell_type": "code",
   "execution_count": null,
   "metadata": {},
   "outputs": [],
   "source": [
    "# 49. Insert a word at the nth position in a string.\n",
    "input_string=input(\"Enter string : \")\n",
    "n=int(input(\"Enter the value at which you want to add : \"))\n",
    "element=input(\"Enter what you want to add  : \")\n",
    "list1=input_string.split()\n",
    "\n",
    "list1.insert(n-1,element)\n",
    "new_string=\" \".join(list1)\n",
    "print(new_string)"
   ]
  },
  {
   "cell_type": "code",
   "execution_count": null,
   "metadata": {},
   "outputs": [],
   "source": [
    "# 50. Convert a CSV string to a list of lists\n",
    "string=\"Name ,Age, Country \\nYash, 20, India\\nPriyanshu ,20 ,India \\nKeshav, 20, India \"\n",
    "print(string)\n",
    "list1=string.split(\"\\n\")\n",
    "\n",
    "original_list=[]\n",
    "for i in list1:\n",
    "    list2=i.split(\",\")\n",
    "    original_list.append(list2)\n",
    "\n",
    "for i in original_list:\n",
    "    print(i)"
   ]
  },
  {
   "cell_type": "markdown",
   "metadata": {},
   "source": [
    "LIST"
   ]
  },
  {
   "cell_type": "code",
   "execution_count": null,
   "metadata": {},
   "outputs": [],
   "source": [
    "# 1. Create a list with integers from 1 to 10.\n",
    "number=[]\n",
    "\n",
    "for i in range(1,11):\n",
    "    list=i\n",
    "    number.append(list)\n",
    "\n",
    "print(number)"
   ]
  },
  {
   "cell_type": "code",
   "execution_count": null,
   "metadata": {},
   "outputs": [],
   "source": [
    "# 2. Find the length of a list without using the `len()` function\n",
    "list=[\"Yash\",255,\"Mangla\",22.59]\n",
    "\n",
    "count=0\n",
    "for i in list:\n",
    "    count+=1\n",
    "\n",
    "print(\"Total number inside list : \",count)"
   ]
  },
  {
   "cell_type": "code",
   "execution_count": null,
   "metadata": {},
   "outputs": [],
   "source": [
    "# 3. Append an element to the end of a list\n",
    "element= int(input(\"Enter no of elements in list : \"))\n",
    "list=[]\n",
    "for i in range(element):\n",
    "    b=input(\"Enter element : \")\n",
    "    list.append(b)\n",
    "\n",
    "print(list)\n",
    "\n",
    "end_element= input(\"Enter element which you want at the last of the list :\")\n",
    "list.append(end_element)\n",
    "print(list)"
   ]
  },
  {
   "cell_type": "code",
   "execution_count": null,
   "metadata": {},
   "outputs": [],
   "source": [
    "# 4. Insert an element at a specific index in a list.\n",
    "element= int(input(\"Enter no of elements in list : \"))\n",
    "list=[]\n",
    "\n",
    "for i in range(element):\n",
    "    b=input(\"Enter element : \")\n",
    "    list.append(b)\n",
    "\n",
    "print(list)\n",
    "index=int(input(\"Enter index where you want to add an element : \"))\n",
    "new_element=input(\"Enter new element : \")\n",
    "list.insert(index,new_element)\n",
    "print(list)"
   ]
  },
  {
   "cell_type": "code",
   "execution_count": null,
   "metadata": {},
   "outputs": [],
   "source": [
    "# 5. Remove an element from a list by its value.\n",
    "element= int(input(\"Enter no of elements in list : \"))\n",
    "list=[]\n",
    "\n",
    "for i in range(element):\n",
    "    b=input(\"Enter element : \")\n",
    "    list.append(b)\n",
    "\n",
    "print(list)\n",
    "\n",
    "remove_element=input(\"Enter element which you want to remove : \")\n",
    "\n",
    "if remove_element in list:\n",
    "    list.remove(remove_element)\n",
    "    print(list)\n",
    "\n",
    "else:\n",
    "    print(\"Enter element is not present in list.\")"
   ]
  },
  {
   "cell_type": "code",
   "execution_count": null,
   "metadata": {},
   "outputs": [],
   "source": [
    "# 6. Remove an element from a list by its index.\n",
    "element= int(input(\"Enter no of elements in list : \"))\n",
    "list=[]\n",
    "\n",
    "for i in range(element):\n",
    "    b=input(\"Enter element : \")\n",
    "    list.append(b)\n",
    "\n",
    "print(list)\n",
    "\n",
    "index=int(input(\"Enter index at which you want to remove the element : \"))\n",
    "\n",
    "if index<element:\n",
    "    list.pop(index)\n",
    "    print(list)\n",
    "else:\n",
    "    print(\"Pls enter right index.\")"
   ]
  },
  {
   "cell_type": "code",
   "execution_count": null,
   "metadata": {},
   "outputs": [],
   "source": [
    "# 7. Check if an element exists in a list\n",
    "element= int(input(\"Enter no of elements in list : \"))\n",
    "list=[]\n",
    "\n",
    "for i in range(element):\n",
    "    b=input(\"Enter element : \")\n",
    "    list.append(b)\n",
    "\n",
    "print(list)\n",
    "\n",
    "exist=input(\"Enter element which you want to check : \")\n",
    "\n",
    "if exist in list:\n",
    "    print(\"Yes, \",exist,\" in list\")\n",
    "\n",
    "else:\n",
    "    print(\"No ,\",exist,\" does not exist in list.\")"
   ]
  },
  {
   "cell_type": "code",
   "execution_count": null,
   "metadata": {},
   "outputs": [],
   "source": [
    "# 8. Find the index of the first occurrence of an element in a list.\n",
    "element= int(input(\"Enter no of elements in list : \"))\n",
    "list=[]\n",
    "\n",
    "for i in range(element):\n",
    "    b=input(\"Enter element : \")\n",
    "    list.append(b)\n",
    "\n",
    "print(list)\n",
    "\n",
    "occurance=input(\"Enter element : \")\n",
    "if occurance in list:\n",
    "    index=list.index(occurance)\n",
    "    print(\"The index of \",occurance,\"in list is \",index)\n",
    "\n",
    "else:\n",
    "    print(\"Given element does not exist in list.\")"
   ]
  },
  {
   "cell_type": "code",
   "execution_count": null,
   "metadata": {},
   "outputs": [],
   "source": [
    "# 9. Count the occurrences of an element in a list.\n",
    "length=int(input(\"Enter length of list : \"))\n",
    "list=[]\n",
    "for i in range(length):\n",
    "    element=input(\"Enter element : \")\n",
    "    list.append(element)\n",
    "print(list)\n",
    "specific_element=input(\"Enter element : \")\n",
    "\n",
    "count=0\n",
    "for i in list:\n",
    "    if i==specific_element:\n",
    "        count+=1\n",
    "\n",
    "print(count)   "
   ]
  },
  {
   "cell_type": "code",
   "execution_count": null,
   "metadata": {},
   "outputs": [],
   "source": [
    "# 10. Reverse the order of elements in a list.\n",
    "length=int(input(\"Enter length of list : \"))\n",
    "list=[]\n",
    "for i in range(length):\n",
    "    element=input(\"Enter element : \")\n",
    "    list.append(element)\n",
    "print(list)\n",
    "\n",
    "list.reverse()\n",
    "\n",
    "print(list)"
   ]
  },
  {
   "cell_type": "code",
   "execution_count": null,
   "metadata": {},
   "outputs": [],
   "source": [
    "# 11. Sort a list in ascending order\n",
    "length=int(input(\"Enter length of list : \"))\n",
    "list=[]\n",
    "for i in range(length):\n",
    "    element=int(input(\"Enter element : \"))\n",
    "    list.append(element)\n",
    "print(list)\n",
    "\n",
    "list.sort()\n",
    "print(list)"
   ]
  },
  {
   "cell_type": "code",
   "execution_count": null,
   "metadata": {},
   "outputs": [],
   "source": [
    "# 12. Sort a list in descending order.\n",
    "length=int(input(\"Enter length of list : \"))\n",
    "list=[]\n",
    "for i in range(length):\n",
    "    element=int(input(\"Enter element : \"))\n",
    "    list.append(element)\n",
    "print(list)\n",
    "\n",
    "list.sort(reverse=True)\n",
    "print(list)"
   ]
  },
  {
   "cell_type": "code",
   "execution_count": null,
   "metadata": {},
   "outputs": [],
   "source": [
    "# 13. Create a list of even numbers from 1 to 20.\n",
    "list=[]\n",
    "for i in range(1,21):\n",
    "    if i%2==0:\n",
    "        list.append(i)\n",
    "print(list)"
   ]
  },
  {
   "cell_type": "code",
   "execution_count": null,
   "metadata": {},
   "outputs": [],
   "source": [
    "# 14. Create a list of odd numbers from 1 to 20.\n",
    "list=[]\n",
    "for i in range(1,21):\n",
    "    if i%2!=0:\n",
    "        list.append(i)\n",
    "print(list)"
   ]
  },
  {
   "cell_type": "code",
   "execution_count": null,
   "metadata": {},
   "outputs": [],
   "source": [
    "# 15. Find the sum of all elements in a list.\n",
    "length=int(input(\"Enter length of list : \"))\n",
    "list=[]\n",
    "for i in range(length):\n",
    "    element=int(input(\"Enter element : \"))\n",
    "    list.append(element)\n",
    "print(list)\n",
    "\n",
    "sum=0\n",
    "for i in list:\n",
    "    sum+=i\n",
    "print(\"The sum of list is : \",sum)"
   ]
  },
  {
   "cell_type": "code",
   "execution_count": null,
   "metadata": {},
   "outputs": [],
   "source": [
    "# 16. Find the maximum value in a list.\n",
    "length=int(input(\"Enter length of list : \"))\n",
    "list=[]\n",
    "for i in range(length):\n",
    "    element=int(input(\"Enter element : \"))\n",
    "    list.append(element)\n",
    "print(list)\n",
    "\n",
    "list.sort()\n",
    "print(\"The maximum in list is :\",list[length-1])"
   ]
  },
  {
   "cell_type": "code",
   "execution_count": null,
   "metadata": {},
   "outputs": [],
   "source": [
    "# 17. Find the minimum value in a list.\n",
    "length=int(input(\"Enter length of list : \"))\n",
    "list=[]\n",
    "for i in range(length):\n",
    "    element=int(input(\"Enter element : \"))\n",
    "    list.append(element)\n",
    "print(list)\n",
    "\n",
    "list.sort()\n",
    "print(\"The minimum in list is :\",list[0])"
   ]
  },
  {
   "cell_type": "code",
   "execution_count": null,
   "metadata": {},
   "outputs": [],
   "source": [
    "# 18. Create a list of squares of numbers from 1 to 10.\n",
    "list=[]\n",
    "for i in range(1,11):\n",
    "    a=i*i\n",
    "    list.append(a)\n",
    "\n",
    "print(list)"
   ]
  },
  {
   "cell_type": "code",
   "execution_count": null,
   "metadata": {},
   "outputs": [],
   "source": [
    "# 19. Create a list of random numbers.\n",
    "import random\n",
    "length=int(input(\"Enter length of list : \"))\n",
    "\n",
    "list=[]\n",
    "for i in range(length):\n",
    "    element=random.randint(1,100)\n",
    "    list.append(element)\n",
    "\n",
    "print(list)"
   ]
  },
  {
   "cell_type": "code",
   "execution_count": null,
   "metadata": {},
   "outputs": [],
   "source": [
    "# 20. Remove duplicates from a list.\n",
    "length=int(input(\"Enter length of list : \"))\n",
    "a=[]\n",
    "for i in range(length):\n",
    "    element=int(input(\"Enter element : \"))\n",
    "    a.append(element)\n",
    "print(a)\n",
    "\n",
    "new_list=list(set(a))\n",
    "print(new_list)"
   ]
  },
  {
   "cell_type": "code",
   "execution_count": null,
   "metadata": {},
   "outputs": [],
   "source": [
    "# 21. Find the common elements between two lists.\n",
    "length=int(input(\"Enter length of list : \"))\n",
    "a=[]\n",
    "for i in range(length):\n",
    "    element=(input(\"Enter element : \"))\n",
    "    a.append(element)\n",
    "print(a)\n",
    "\n",
    "length1=int(input(\"Enter length of list : \"))\n",
    "b=[]\n",
    "for i in range(length1):\n",
    "    element=(input(\"Enter element : \"))\n",
    "    b.append(element)\n",
    "print(b)\n",
    "\n",
    "c=[]\n",
    "for i in a:\n",
    "    for j in b:\n",
    "        if i==j:\n",
    "            c.append(i)\n",
    "print(\"Commom element \\n\",c)"
   ]
  },
  {
   "cell_type": "code",
   "execution_count": null,
   "metadata": {},
   "outputs": [],
   "source": [
    "# 22. Find the difference between two lists.\n",
    "length=int(input(\"Enter length of list : \"))\n",
    "list1=[]\n",
    "for i in range(length):\n",
    "    element=(input(\"Enter element : \"))\n",
    "    list1.append(element)\n",
    "print(list1)\n",
    "\n",
    "length1=int(input(\"Enter length of list : \"))\n",
    "list2=[]\n",
    "for i in range(length1):\n",
    "    element=(input(\"Enter element : \"))\n",
    "    list2.append(element)\n",
    "print(list2)\n",
    "\n",
    "a=list(set(list1)-set(list2))\n",
    "b=list(set(list2)-set(list1))\n",
    "\n",
    "print(\"List1-List2 : \",a)\n",
    "print(\"List2-List1 : \",b)"
   ]
  },
  {
   "cell_type": "code",
   "execution_count": null,
   "metadata": {},
   "outputs": [],
   "source": [
    "# 23. Merge two lists.\n",
    "length=int(input(\"Enter length of list : \"))\n",
    "list1=[]\n",
    "for i in range(length):\n",
    "    element=(input(\"Enter element : \"))\n",
    "    list1.append(element)\n",
    "print(list1)\n",
    "\n",
    "length1=int(input(\"Enter length of list : \"))\n",
    "list2=[]\n",
    "for i in range(length1):\n",
    "    element=(input(\"Enter element : \"))\n",
    "    list2.append(element)\n",
    "print(list2)\n",
    "\n",
    "for i in list2:\n",
    "    list1.append(i)\n",
    "print(list1)"
   ]
  },
  {
   "cell_type": "code",
   "execution_count": null,
   "metadata": {},
   "outputs": [],
   "source": [
    "# 24. Multiply all elements in a list by 2.\n",
    "length=int(input(\"Enter no of elements in list :\"))\n",
    "a=[]\n",
    "for i in range(length):\n",
    "    element=int(input(\"Enter element : \"))\n",
    "    a.append(element)\n",
    "\n",
    "print(a)\n",
    "\n",
    "b=[]\n",
    "for i in a:\n",
    "    i*=2\n",
    "    b.append(i)\n",
    "print(b)"
   ]
  },
  {
   "cell_type": "code",
   "execution_count": null,
   "metadata": {},
   "outputs": [],
   "source": [
    "# 25. Filter out all even numbers from a list.\n",
    "length=int(input(\"Enter no of elements in list :\"))\n",
    "a=[]\n",
    "for i in range(length):\n",
    "    element=int(input(\"Enter element : \"))\n",
    "    a.append(element)\n",
    "\n",
    "print(a)\n",
    "b=[]\n",
    "for i in a:\n",
    "    if i%2==0:\n",
    "        b.append(i)\n",
    "\n",
    "print(b)"
   ]
  },
  {
   "cell_type": "code",
   "execution_count": null,
   "metadata": {},
   "outputs": [],
   "source": [
    "# 26. Convert a list of strings to a list of integers.\n",
    "length=int(input(\"Enter number of elements : \"))\n",
    "list1=[]\n",
    "\n",
    "for i in range(length):\n",
    "    element=input(\"Enter elements : \")\n",
    "    list1.append(element)\n",
    "print(list1)\n",
    "\n",
    "list2=[]\n",
    "for i in list1:\n",
    "    b=int(i)\n",
    "    list2.append(b)\n",
    "print(list2)"
   ]
  },
  {
   "cell_type": "code",
   "execution_count": null,
   "metadata": {},
   "outputs": [],
   "source": [
    "# 27. Convert a list of integers to a list of strings.\n",
    "length=int(input(\"Enter number of elements : \"))\n",
    "list1=[]\n",
    "\n",
    "for i in range(length):\n",
    "    element=int(input(\"Enter elements : \"))\n",
    "    list1.append(element)\n",
    "print(list1)\n",
    "\n",
    "list2=[]\n",
    "for i in list1:\n",
    "    b=str(i)\n",
    "    list2.append(b)\n",
    "print(list2)"
   ]
  },
  {
   "cell_type": "code",
   "execution_count": null,
   "metadata": {},
   "outputs": [],
   "source": [
    "# 28. Flatten a nested list.\n",
    "nested_list = [[1, 2, 3], [4, 5], [6, 7, 8, 9]]\n",
    "flatern_list=[]\n",
    "for i in nested_list:\n",
    "    if len(i)==1:\n",
    "        flatern_list.append(i)\n",
    "    else:\n",
    "        for j in i :\n",
    "            flatern_list.append(j)\n",
    "print(\"Flatern list : \",flatern_list)"
   ]
  },
  {
   "cell_type": "code",
   "execution_count": null,
   "metadata": {},
   "outputs": [],
   "source": [
    "# 29. Create a list of the first 10 Fibonacci numbers.\n",
    "list1=[]\n",
    "fibo1=0\n",
    "fibo2=1\n",
    "list1.append(fibo1)\n",
    "list1.append(fibo2)\n",
    "\n",
    "for i in range(8):\n",
    "    fibo3=fibo1+fibo2\n",
    "    list1.append(fibo3)\n",
    "    fibo1=fibo2\n",
    "    fibo2=fibo3\n",
    "\n",
    "print(\"Fibonacci series :\\n\",list1)"
   ]
  },
  {
   "cell_type": "code",
   "execution_count": null,
   "metadata": {},
   "outputs": [],
   "source": [
    "# 30. Check if a list is sorted.\n",
    "length=int(input(\"Enter number of elements : \"))\n",
    "list1=[]\n",
    "for i in range(length):\n",
    "    element=int(input(\"Enter element : \"))\n",
    "    list1.append(element)\n",
    "print(list1)\n",
    "\n",
    "list2=sorted(list1)\n",
    "\n",
    "print(list2)\n",
    "\n",
    "if list1==list2:\n",
    "    print(\"Given list is sorted.\")\n",
    "else:\n",
    "    print(\"Given list is not sorted,\")"
   ]
  },
  {
   "cell_type": "code",
   "execution_count": null,
   "metadata": {},
   "outputs": [],
   "source": [
    "# 31. Rotate a list to the left by `n` positions.\n",
    "length=int(input(\"Enter length of list : \"))\n",
    "list1=[]\n",
    "for i in range(length):\n",
    "    element=(input(\"Enter element : \"))\n",
    "    list1.append(element)\n",
    "print(\"Original list is  : \",list1)\n",
    "\n",
    "n=int(input(\"Enter the value of n for which you want to rotate : \"))\n",
    "\n",
    "modified_list=list1[n:]+list1[:n]\n",
    "print(f\"New list after {n} rotations : \",modified_list)"
   ]
  },
  {
   "cell_type": "code",
   "execution_count": null,
   "metadata": {},
   "outputs": [],
   "source": [
    "# 32. Rotate a list to the right by `n` positions.\n",
    "length=int(input(\"Enter length of list : \"))\n",
    "list1=[]\n",
    "for i in range(length):\n",
    "    element=(input(\"Enter element : \"))\n",
    "    list1.append(element)\n",
    "print(\"Original list is  : \",list1)\n",
    "\n",
    "n=int(input(\"Enter the value of n for which you want to rotate : \"))\n",
    "\n",
    "modified_list=list1[-n:]+list1[:-n]\n",
    "print(f\"New list after {n} rotations : \",modified_list)"
   ]
  },
  {
   "cell_type": "code",
   "execution_count": null,
   "metadata": {},
   "outputs": [],
   "source": [
    "# 33. Create a list of prime numbers up to 50.\n",
    "list1=[]\n",
    "i=2\n",
    "while i <50 :\n",
    "    prime=True\n",
    "    for j in range(2,i):\n",
    "        if i%j==0:\n",
    "            prime=False\n",
    "            break\n",
    "    \n",
    "    if prime==True:\n",
    "        list1.append(i)\n",
    "    i+=1\n",
    "\n",
    "print(\"List of prime number upto 50 numbers :\\n\",list1)"
   ]
  },
  {
   "cell_type": "code",
   "execution_count": null,
   "metadata": {},
   "outputs": [],
   "source": [
    "# 34. Split a list into chunks of size `n`.\n",
    "length=int(input(\"Enter length of list : \"))\n",
    "list1=[]\n",
    "for i in range(length):\n",
    "    element=(input(\"Enter element : \"))\n",
    "    list1.append(element)\n",
    "print(list1)\n",
    "\n",
    "n=int(input(\"Enter the value for which you want to split in chunks : \"))\n",
    "new_list=[]\n",
    "\n",
    "for i in range(0,length,n):\n",
    "    chunk=list1[i:i+n]\n",
    "    new_list.append(chunk)\n",
    "print(new_list)"
   ]
  },
  {
   "cell_type": "code",
   "execution_count": null,
   "metadata": {},
   "outputs": [],
   "source": [
    "# 35. Find the second largest number in a list.\n",
    "length=int(input(\"Enter number of elements : \"))\n",
    "list1=[]\n",
    "for i in range(length):\n",
    "    element=int(input(\"Enter element : \"))\n",
    "    list1.append(element)\n",
    "print(\"originial list :\",list1)\n",
    "\n",
    "list1.sort()\n",
    "print(\"Sorted list : \",list1)\n",
    "print(list1[length-2])"
   ]
  },
  {
   "cell_type": "code",
   "execution_count": null,
   "metadata": {},
   "outputs": [],
   "source": [
    "# 36. Replace every element in a list with its square.\n",
    "length=int(input(\"Enter length of list : \"))\n",
    "list1=[]\n",
    "for i in range(length):\n",
    "    list1.append(int(input(\"Enter element : \")))\n",
    "print(\"Original list : \\n\",list1)\n",
    "\n",
    "for i in range(length):\n",
    "    list1[i]=list1[i]**2\n",
    "print(\"new list :\\n\",list1)"
   ]
  },
  {
   "cell_type": "code",
   "execution_count": null,
   "metadata": {},
   "outputs": [],
   "source": [
    "# 37. Convert a list to a dictionary where list elements become keys and their indices become values.\n",
    "length=int(input(\"Enter length of list : \"))\n",
    "list1=[]\n",
    "for i in range(length):\n",
    "    element=(input(\"Enter element : \"))\n",
    "    list1.append(element)\n",
    "print(list1)\n",
    "\n",
    "index=0\n",
    "\n",
    "dic={}\n",
    "for i in list1:\n",
    "    dic[i]=index\n",
    "    index+=1\n",
    "\n",
    "print(dic)"
   ]
  },
  {
   "cell_type": "code",
   "execution_count": null,
   "metadata": {},
   "outputs": [],
   "source": [
    "# 38. Shuffle the elements of a list randomly.\n",
    "import random\n",
    "length=int(input(\"Enter length of list : \"))\n",
    "list1=[]\n",
    "for i in range(length):\n",
    "    list1.append(input(\"Enter element : \"))\n",
    "print(\"Original list : \\n\",list1)\n",
    "\n",
    "random.shuffle(list1)\n",
    "print(\"Suffled list\\n\",list1)"
   ]
  },
  {
   "cell_type": "code",
   "execution_count": null,
   "metadata": {},
   "outputs": [],
   "source": [
    "# 39. Create a list of the first 10 factorial numbers.\n",
    "list1=[]\n",
    "\n",
    "def factorial(n):\n",
    "    if n==0: \n",
    "        return 1\n",
    "    else: \n",
    "        return n*factorial(n-1)\n",
    "\n",
    "for i in range(1,11):\n",
    "    x=factorial(i)\n",
    "    list1.append(x)\n",
    "print(list1)"
   ]
  },
  {
   "cell_type": "code",
   "execution_count": null,
   "metadata": {},
   "outputs": [],
   "source": [
    "# 40. Check if two lists have at least one element in common.\n",
    "length=int(input(\"Enter length of list : \"))\n",
    "list1=[]\n",
    "for i in range(length):\n",
    "    element=(input(\"Enter element : \"))\n",
    "    list1.append(element)\n",
    "print(list1)\n",
    "\n",
    "length1=int(input(\"Enter length of list : \"))\n",
    "list2=[]\n",
    "for i in range(length1):\n",
    "    element=(input(\"Enter element : \"))\n",
    "    list2.append(element)\n",
    "print(list2)\n",
    "\n",
    "condition=False\n",
    "for i in list1:\n",
    "    if i in list2:\n",
    "        condition=True\n",
    "        break\n",
    "\n",
    "if condition==True:\n",
    "    print(\"here at least one element in commonn.\")\n",
    "else:\n",
    "    print(\"There are no common element between two list.\")"
   ]
  },
  {
   "cell_type": "code",
   "execution_count": null,
   "metadata": {},
   "outputs": [],
   "source": [
    "# 41. Remove all elements from a list.\n",
    "length=int(input(\"Enter length of list : \"))\n",
    "list1=[]\n",
    "for i in range(length):\n",
    "    list1.append(input(\"Enter element : \"))\n",
    "print(list1)\n",
    "\n",
    "list1.clear()\n",
    "print(list1)"
   ]
  },
  {
   "cell_type": "code",
   "execution_count": null,
   "metadata": {},
   "outputs": [],
   "source": [
    "# 42. Replace negative numbers in a list with 0.\n",
    "length=int(input(\"Enter length of list : \"))\n",
    "list1=[]\n",
    "for i in range(length):\n",
    "    list1.append(int(input(\"Enter element : \")))\n",
    "print(list1)\n",
    "\n",
    "for i in range(length):\n",
    "    if list1[i]<0:\n",
    "        list1[i]=0\n",
    "print(list1)"
   ]
  },
  {
   "cell_type": "code",
   "execution_count": null,
   "metadata": {},
   "outputs": [],
   "source": [
    "# 43. Convert a string into a list of words.\n",
    "string=input(\"Enter a string :\\n\")\n",
    "\n",
    "list1=string.split(\" \")\n",
    "print(list1)"
   ]
  },
  {
   "cell_type": "code",
   "execution_count": null,
   "metadata": {},
   "outputs": [],
   "source": [
    "# 44. Convert a list of words into a string.\n",
    "length=int(input(\"Enter length of list :\"))\n",
    "list1=[]\n",
    "for i  in range(length):\n",
    "    list1.append(input(\"Enter element : \"))\n",
    "print(list1)\n",
    "\n",
    "string=\" \".join(list1)\n",
    "print(string)\n"
   ]
  },
  {
   "cell_type": "code",
   "execution_count": null,
   "metadata": {},
   "outputs": [],
   "source": [
    "# 45. Create a list of the first `n` powers of 2.\n",
    "n=int(input(\"Enter number : \"))\n",
    "list1=[]\n",
    "for i in range(n):\n",
    "    list1.append(2**i)\n",
    "print(list1)"
   ]
  },
  {
   "cell_type": "code",
   "execution_count": null,
   "metadata": {},
   "outputs": [],
   "source": [
    "# 46. Find the longest string in a list of strings.\n",
    "length=int(input(\"Enter length of list: \"))\n",
    "list1=[]\n",
    "for i in range(length):\n",
    "    list1.append(input(\"Enter element : \"))\n",
    "print(list1)\n",
    "\n",
    "length_of_string=[]\n",
    "for i in list1:\n",
    "    length_of_string.append(len(i))\n",
    "\n",
    "z=max(length_of_string)\n",
    "\n",
    "if z in length_of_string:\n",
    "    x=length_of_string.index(z)\n",
    "    print(\"Longest string in given list is : \",list1[x])"
   ]
  },
  {
   "cell_type": "code",
   "execution_count": null,
   "metadata": {},
   "outputs": [],
   "source": [
    "# 47. Find the shortest string in a list of strings.\n",
    "length=int(input(\"Enter length of list: \"))\n",
    "list1=[]\n",
    "for i in range(length):\n",
    "    list1.append(input(\"Enter element : \"))\n",
    "print(list1)\n",
    "\n",
    "length_of_string=[]\n",
    "for i in list1:\n",
    "    length_of_string.append(len(i))\n",
    "\n",
    "z=min(length_of_string)\n",
    "\n",
    "if z in length_of_string:\n",
    "    x=length_of_string.index(z)\n",
    "    print(\"Shortest string in given list is : \",list1[x])"
   ]
  },
  {
   "cell_type": "code",
   "execution_count": null,
   "metadata": {},
   "outputs": [],
   "source": [
    "# 48. Create a list of the first `n` triangular numbers.\n",
    "n=int(input(\"Enter numbers :\"))\n",
    "list1=[]\n",
    "\n",
    "for i in range(1,n+1):\n",
    "    list1.append((i*(i+1))//2)\n",
    "\n",
    "print(list1)"
   ]
  },
  {
   "cell_type": "code",
   "execution_count": null,
   "metadata": {},
   "outputs": [],
   "source": [
    "# 49. Check if a list contains another list as a subsequence.\n",
    "length1=int(input(\"Enter length of tuple : \"))\n",
    "list1=[]\n",
    "for i in range(length1):\n",
    "    list1.append(input(\"Enter elements :  \"))\n",
    "\n",
    "length2=int(input(\"Enter length of tuple : \"))\n",
    "list2=[]\n",
    "for i in range(length2):\n",
    "    list2.append(input(\"Enter elements :  \"))\n",
    "\n",
    "\n",
    "\n",
    "if list2[0] in list1:\n",
    "    a=list1.index(list2[0])\n",
    "    if list1[a:length2+a]==list2:\n",
    "        print(\"List1 contain List2 \")\n",
    "    else:\n",
    "        print(\"List 1 does not contain List2 as a subsequence.\")"
   ]
  },
  {
   "cell_type": "code",
   "execution_count": null,
   "metadata": {},
   "outputs": [],
   "source": [
    "# 50. Swap two elements in a list by their indices.\n",
    "length=int(input(\"Enter length of list : \"))\n",
    "list1=[]\n",
    "for i in range(length):\n",
    "    list1.append(input(\"Enter element : \"))\n",
    "print(list1)\n",
    "\n",
    "a=int(input(\"Enter first index of list which you want to swap : \"))\n",
    "b=int(input(\"Enter second  index of list which you want to swap : \"))\n",
    "\n",
    "list1[a],list1[b]=list1[b],list1[a]\n",
    "print(\"Modified list :\\n\",list1)"
   ]
  },
  {
   "cell_type": "markdown",
   "metadata": {},
   "source": [
    "TUPLE"
   ]
  },
  {
   "cell_type": "code",
   "execution_count": null,
   "metadata": {},
   "outputs": [],
   "source": [
    "# 1. Create a tuple with integers from 1 to 5.\n",
    "list1=[]\n",
    "for i in range(5):\n",
    "    list1.append(i+1)\n",
    "\n",
    "tuple1=tuple(list1)\n",
    "print(tuple1)"
   ]
  },
  {
   "cell_type": "code",
   "execution_count": null,
   "metadata": {},
   "outputs": [],
   "source": [
    "# 2. Access the third element of a tuple.\n",
    "\"\"\"We are not able to make tuple so we first make list then do type casting in tuple \"\"\"\n",
    "length=int(input(\"Enter length of tuple : \"))\n",
    "list1=[]\n",
    "for i in range(length):\n",
    "    list1.append(input(\"Enter elements :  \"))\n",
    "\n",
    "tuple1=tuple(list1)\n",
    "print(\"Third element of tuple is : \",tuple1[2])"
   ]
  },
  {
   "cell_type": "code",
   "execution_count": null,
   "metadata": {},
   "outputs": [],
   "source": [
    "# 3. Find the length of a tuple without using the `len()` function.\n",
    "tuple1=(1,5,85,28,98,1,7,5)\n",
    "count=0\n",
    "for i in tuple1:\n",
    "    count+=1\n",
    "print(\"The length of tuple is : \",count)"
   ]
  },
  {
   "cell_type": "code",
   "execution_count": null,
   "metadata": {},
   "outputs": [],
   "source": [
    "# 4. Count the occurrences of an element in a tuple.\n",
    "length=int(input(\"Enter length of tuple : \"))\n",
    "list1=[]\n",
    "for i in range(length):\n",
    "    list1.append(input(\"Enter elements :  \"))\n",
    "\n",
    "tuple1=tuple(list1)\n",
    "\n",
    "specific_word=input(\"Enter word: \")\n",
    "count=0\n",
    "for i in tuple1:\n",
    "    if i==specific_word:\n",
    "        count+=1\n",
    "print(f\"Total numer of time {specific_word} is present in tuple is : {count}\")"
   ]
  },
  {
   "cell_type": "code",
   "execution_count": null,
   "metadata": {},
   "outputs": [],
   "source": [
    "# 5. Find the index of the first occurrence of an element in a tuple.\n",
    "length=int(input(\"Enter length of tuple : \"))\n",
    "list1=[]\n",
    "for i in range(length):\n",
    "    list1.append(input(\"Enter elements :  \"))\n",
    "\n",
    "tuple1=tuple(list1)\n",
    "specific_word=input(\"Enter specific word :\")\n",
    "print(f\"The {specific_word} is present at index :\",tuple1.index(specific_word))"
   ]
  },
  {
   "cell_type": "code",
   "execution_count": null,
   "metadata": {},
   "outputs": [],
   "source": [
    "# 6. Check if an element exists in a tuple.\n",
    "length=int(input(\"Enter length of tuple : \"))\n",
    "list1=[]\n",
    "for i in range(length):\n",
    "    list1.append(input(\"Enter elements :  \"))\n",
    "\n",
    "tuple1=tuple(list1)\n",
    "specific_word=input(\"Enter specific word :\")\n",
    "\n",
    "found= False\n",
    "for i in tuple1:\n",
    "    if i == specific_word:\n",
    "        found=True\n",
    "        break\n",
    "    \n",
    "if found==True:\n",
    "    print(f\"The {specific_word} is present in tuple.\")\n",
    "else:\n",
    "    print(f\"The {specific_word} is not present in tuple.\") "
   ]
  },
  {
   "cell_type": "code",
   "execution_count": null,
   "metadata": {},
   "outputs": [],
   "source": [
    "# 7. Convert a tuple to a list.\n",
    "tuple1=(1,2,3,4,5,6,7,8,9,\"Yash\",True)\n",
    "list1=list(tuple1)\n",
    "print(list1)"
   ]
  },
  {
   "cell_type": "code",
   "execution_count": null,
   "metadata": {},
   "outputs": [],
   "source": [
    "# 8. Convert a list to a tuple.\n",
    "list1=[1,2,3,4,5,6,7,8,9,\"Yash\",True,False]\n",
    "tuple1=tuple(list1)\n",
    "print(tuple1)"
   ]
  },
  {
   "cell_type": "code",
   "execution_count": null,
   "metadata": {},
   "outputs": [],
   "source": [
    "# 9. Unpack the elements of a tuple into variables.\n",
    "tuple1=(1,2,3,4,5)\n",
    "\n",
    "a,b,c,d,e=tuple1\n",
    "print(a)\n",
    "print(b)\n",
    "print(c)\n",
    "print(d)\n",
    "print(e)"
   ]
  },
  {
   "cell_type": "code",
   "execution_count": null,
   "metadata": {},
   "outputs": [],
   "source": [
    "# 10. Create a tuple of even numbers from 1 to 10.\n",
    "list1=[]\n",
    "for i in range(10):\n",
    "    if (i+1)%2==0:\n",
    "        list1.append(i+1)\n",
    "print(list1)"
   ]
  },
  {
   "cell_type": "code",
   "execution_count": null,
   "metadata": {},
   "outputs": [],
   "source": [
    "# 11. Create a tuple of odd numbers from 1 to 10.\n",
    "list1=[]\n",
    "for i in range(10):\n",
    "    if (i+1)%2 !=0:\n",
    "        list1.append(i+1)\n",
    "print(list1)"
   ]
  },
  {
   "cell_type": "code",
   "execution_count": null,
   "metadata": {},
   "outputs": [],
   "source": [
    "# 12. Concatenate two tuples.\n",
    "length1=int(input(\"Enter length of tuple : \"))\n",
    "list1=[]\n",
    "for i in range(length1):\n",
    "    list1.append(input(\"Enter elements :  \"))\n",
    "\n",
    "tuple1=tuple(list1)\n",
    "\n",
    "length2=int(input(\"Enter length of tuple : \"))\n",
    "list2=[]\n",
    "for i in range(length2):\n",
    "    list2.append(input(\"Enter elements :  \"))\n",
    "\n",
    "tuple2=tuple(list2)\n",
    "\n",
    "print(tuple1)\n",
    "print(tuple2)\n",
    "print(tuple1+tuple2)"
   ]
  },
  {
   "cell_type": "code",
   "execution_count": null,
   "metadata": {},
   "outputs": [],
   "source": [
    "# 13. Repeat a tuple three times.\n",
    "length=int(input(\"Enter length of tuple : \"))\n",
    "list1=[]\n",
    "for i in range(length):\n",
    "    list1.append(input(\"Enter elements :  \"))\n",
    "\n",
    "tuple1=tuple(list1)\n",
    "\n",
    "print(tuple1)\n",
    "print(tuple1*3)"
   ]
  },
  {
   "cell_type": "code",
   "execution_count": null,
   "metadata": {},
   "outputs": [],
   "source": [
    "# 14. Check if a tuple is empty.\n",
    "tuple1=()\n",
    "if len(tuple1)==0:\n",
    "    print(\"Tuple is empty.\")\n",
    "else:\n",
    "    print(\"Tuple is not empty.\")"
   ]
  },
  {
   "cell_type": "code",
   "execution_count": null,
   "metadata": {},
   "outputs": [],
   "source": [
    "# 15. Create a nested tuple.\n",
    "length=int(input(\"Enter length of tuple : \"))\n",
    "list1=[]\n",
    "for i in range(length):\n",
    "    choice=input(\"Enter yes if you want a tuple at that position otherwise no :  \").lower()\n",
    "    if choice==\"yes\":\n",
    "        lenght1=int(input(\"Enter length of that tuple : \"))\n",
    "        list2=[]\n",
    "        for i in range(lenght1):\n",
    "            list2.append(input(\"Enter element : \"))\n",
    "            tuple2=tuple(list2)\n",
    "        list1.append(tuple2)\n",
    "    else:\n",
    "        inp=input(\"Enter element :\")\n",
    "        list1.append(inp)\n",
    "\n",
    "tuple1=tuple(list1)\n",
    "print(tuple1)"
   ]
  },
  {
   "cell_type": "code",
   "execution_count": null,
   "metadata": {},
   "outputs": [],
   "source": [
    "# 16. Access the first element of a nested tuple.count\n",
    "length=int(input(\"Enter length of tuple : \"))\n",
    "list1=[]\n",
    "for i in range(length):\n",
    "    choice=input(\"Enter yes if you want a tuple at that position otherwise no :  \").lower()\n",
    "    if choice==\"yes\":\n",
    "        lenght1=int(input(\"Enter length of that tuple : \"))\n",
    "        list2=[]\n",
    "        for i in range(lenght1):\n",
    "            list2.append(input(\"Enter element : \"))\n",
    "            tuple2=tuple(list2)\n",
    "        list1.append(tuple2)\n",
    "    else:\n",
    "        inp=input(\"Enter element :\")\n",
    "        list1.append(inp)\n",
    "\n",
    "tuple1=tuple(list1)\n",
    "print(tuple1)\n",
    "\n",
    "print(tuple1[0])"
   ]
  },
  {
   "cell_type": "code",
   "execution_count": null,
   "metadata": {},
   "outputs": [],
   "source": [
    "# 17. Create a tuple with a single element.\n",
    "list1=[]\n",
    "list1.append(input(\"Enter element : \"))\n",
    "\n",
    "tuple1=tuple(list1)\n",
    "print(tuple1)"
   ]
  },
  {
   "cell_type": "code",
   "execution_count": null,
   "metadata": {},
   "outputs": [],
   "source": [
    "# 18. Compare two tuples.\n",
    "length1=int(input(\"Enter length of tuple : \"))\n",
    "list1=[]\n",
    "for i in range(length1):\n",
    "    list1.append(input(\"Enter elements :  \"))\n",
    "\n",
    "tuple1=tuple(list1)\n",
    "\n",
    "length2=int(input(\"Enter length of tuple : \"))\n",
    "list2=[]\n",
    "for i in range(length2):\n",
    "    list2.append(input(\"Enter elements :  \"))\n",
    "\n",
    "tuple2=tuple(list2)\n",
    "print(\"tuple1 == tuple2:\", tuple1 == tuple2)  \n",
    "print(\"tuple1 != tuple2:\", tuple1 != tuple2)  \n",
    "print(\"tuple1 < tuple2:\", tuple1 < tuple2)    \n",
    "print(\"tuple1 <= tuple2:\", tuple1 <= tuple2) \n",
    "print(\"tuple1 > tuple2:\", tuple1 > tuple2)    \n",
    "print(\"tuple1 >= tuple2:\", tuple1 >= tuple2)"
   ]
  },
  {
   "cell_type": "code",
   "execution_count": null,
   "metadata": {},
   "outputs": [],
   "source": [
    "# 19. Delete a tuple.\n",
    "length=int(input(\"Enter length of tuple : \"))\n",
    "list1=[]\n",
    "for i in range(length):\n",
    "    list1.append(input(\"Enter elements :  \"))\n",
    "\n",
    "tuple1=tuple(list1)\n",
    "del(tuple1)\n",
    "print(tuple1)"
   ]
  },
  {
   "cell_type": "code",
   "execution_count": null,
   "metadata": {},
   "outputs": [],
   "source": [
    "# 20. Slice a tuple.\n",
    "length=int(input(\"Enter length of tuple : \"))\n",
    "list1=[]\n",
    "for i in range(length):\n",
    "    list1.append(input(\"Enter elements :  \"))\n",
    "\n",
    "tuple1=tuple(list1)\n",
    "print(tuple1)\n",
    "\n",
    "a=int(input(\"Enter first value of slicing  : \"))\n",
    "b=int(input(\"Enter second value of slicing : \"))\n",
    "\n",
    "tuple2=tuple1[a:b]\n",
    "print(tuple2)"
   ]
  },
  {
   "cell_type": "code",
   "execution_count": null,
   "metadata": {},
   "outputs": [],
   "source": [
    "# 21. Find the maximum value in a tuple.\n",
    "length=int(input(\"Enter length of tuple : \"))\n",
    "list1=[]\n",
    "for i in range(length):\n",
    "    list1.append(int(input(\"Enter elements :  \")))\n",
    "\n",
    "tuple1=tuple(list1)\n",
    "print(tuple1)\n",
    "\n",
    "print(\"The max value of tuple : \",max(tuple1))"
   ]
  },
  {
   "cell_type": "code",
   "execution_count": null,
   "metadata": {},
   "outputs": [],
   "source": [
    "# 22. Find the minimum value in a tuple.\n",
    "length=int(input(\"Enter length of tuple : \"))\n",
    "list1=[]\n",
    "for i in range(length):\n",
    "    list1.append(int(input(\"Enter elements :  \")))\n",
    "\n",
    "tuple1=tuple(list1)\n",
    "print(tuple1)\n",
    "\n",
    "print(\"The min value of tuple : \",min(tuple1))"
   ]
  },
  {
   "cell_type": "code",
   "execution_count": null,
   "metadata": {},
   "outputs": [],
   "source": [
    "# 23. Convert a string to a tuple of characters.\n",
    "input_string=input(\"Enter string : \")\n",
    "tuple1=tuple(input_string)\n",
    "print(tuple1)"
   ]
  },
  {
   "cell_type": "code",
   "execution_count": null,
   "metadata": {},
   "outputs": [],
   "source": [
    "# 24. Convert a tuple of characters to a string.\n",
    "length=int(input(\"Enter length of tuple : \"))\n",
    "list1=[]\n",
    "for i in range(length):\n",
    "    list1.append(input(\"Enter elements :  \"))\n",
    "\n",
    "tuple1=tuple(list1)\n",
    "print(tuple1)\n",
    "\n",
    "string=\" \".join(tuple1)\n",
    "print(string)"
   ]
  },
  {
   "cell_type": "code",
   "execution_count": null,
   "metadata": {},
   "outputs": [],
   "source": [
    "# 25. Create a tuple from multiple data types.\n",
    "tuple1=(1,1.25,True,\"Yash\")\n",
    "print(tuple1)"
   ]
  },
  {
   "cell_type": "code",
   "execution_count": null,
   "metadata": {},
   "outputs": [],
   "source": [
    "# 26. Check if two tuples are identical.\n",
    "length1=int(input(\"Enter length of tuple : \"))\n",
    "list1=[]\n",
    "for i in range(length1):\n",
    "    list1.append(input(\"Enter elements :  \"))\n",
    "\n",
    "tuple1=tuple(list1)\n",
    "\n",
    "length2=int(input(\"Enter length of tuple : \"))\n",
    "list2=[]\n",
    "for i in range(length2):\n",
    "    list2.append(input(\"Enter elements :  \"))\n",
    "\n",
    "tuple2=tuple(list2)\n",
    "\n",
    "Tuple1=sorted(tuple1)\n",
    "Tuple2=sorted(tuple2)\n",
    "\n",
    "if Tuple1==Tuple2:\n",
    "    print(\"Both tupple are identical\")\n",
    "else:\n",
    "    print(\"Tupples are different\")"
   ]
  },
  {
   "cell_type": "code",
   "execution_count": null,
   "metadata": {},
   "outputs": [],
   "source": [
    "# 27. Sort the elements of a tuple.\n",
    "print(\"Pls enter int data type.\")\n",
    "length1=int(input(\"Enter length of tuple : \"))\n",
    "list1=[]\n",
    "for i in range(length1):\n",
    "    list1.append(int(input(\"Enter elements :  \")))\n",
    "\n",
    "tuple1=tuple(list1)\n",
    "\n",
    "Tuple1=sorted(tuple1)\n",
    "print(\"original tuple is :\",tuple1)\n",
    "print(\"Modified tuple is :\",Tuple1)"
   ]
  },
  {
   "cell_type": "code",
   "execution_count": null,
   "metadata": {},
   "outputs": [],
   "source": [
    "# 28. Convert a tuple of integers to a tuple of strings.\n",
    "length1=int(input(\"Enter length of tuple : \"))\n",
    "list1=[]\n",
    "for i in range(length1):\n",
    "    list1.append(int(input(\"Enter elements :  \")))\n",
    "\n",
    "tuple1=tuple(list1)\n",
    "print(tuple1)\n",
    "string=\"\"\n",
    "for i in tuple1:\n",
    "    a=str(i)\n",
    "    string+=a\n",
    "\n",
    "tuple2=tuple(string)\n",
    "print(tuple2)"
   ]
  },
  {
   "cell_type": "code",
   "execution_count": null,
   "metadata": {},
   "outputs": [],
   "source": [
    "# 29. Convert a tuple of strings to a tuple of integers.\n",
    "length1=int(input(\"Enter length of tuple : \"))\n",
    "list1=[]\n",
    "for i in range(length1):\n",
    "    list1.append(input(\"Enter elements :  \"))\n",
    "\n",
    "tuple1=tuple(list1)\n",
    "print(tuple1)\n",
    "\n",
    "list2=[]\n",
    "for i in tuple1:\n",
    "    a=int(i)\n",
    "    list2.append(a)\n",
    "\n",
    "tuple2=tuple(list2)\n",
    "print(tuple2)"
   ]
  },
  {
   "cell_type": "code",
   "execution_count": null,
   "metadata": {},
   "outputs": [],
   "source": [
    "# 30. Merge two tuples.\n",
    "length1=int(input(\"Enter length of tuple : \"))\n",
    "list1=[]\n",
    "for i in range(length1):\n",
    "    list1.append(input(\"Enter elements :  \"))\n",
    "\n",
    "tuple1=tuple(list1)\n",
    "\n",
    "length2=int(input(\"Enter length of tuple : \"))\n",
    "list2=[]\n",
    "for i in range(length2):\n",
    "    list2.append(input(\"Enter elements :  \"))\n",
    "\n",
    "tuple2=tuple(list2)\n",
    "\n",
    "tuple3=tuple1+tuple2\n",
    "print(tuple1)\n",
    "print(tuple2)\n",
    "print(tuple3)"
   ]
  },
  {
   "cell_type": "code",
   "execution_count": null,
   "metadata": {},
   "outputs": [],
   "source": [
    "# 31. Flatten a nested tuple.\n",
    "\n",
    "# Make a nested tuple\n",
    "length=int(input(\"Enter length of tuple : \"))\n",
    "list1=[]\n",
    "for i in range(length):\n",
    "    choice=input(\"Enter yes if you want a tuple at that position otherwise no :  \").lower()\n",
    "    if choice==\"yes\":\n",
    "        lenght1=int(input(\"Enter length of that tuple : \"))\n",
    "        list2=[]\n",
    "        for i in range(lenght1):\n",
    "            list2.append(input(\"Enter element : \"))\n",
    "        tuple2=tuple(list2)\n",
    "        list1.append(tuple2)\n",
    "    else:\n",
    "        inp=input(\"Enter element :\")\n",
    "        list1.append(inp)\n",
    "\n",
    "tuple1=tuple(list1)\n",
    "print(tuple1)\n",
    "\n",
    "# Faltern a nested tuple\n",
    "list3=[]\n",
    "for i in tuple1:\n",
    "    if len(i)==1:\n",
    "        list3.append(i)\n",
    "    else:\n",
    "        for j in i:\n",
    "            list3.append(j)\n",
    "print(tuple(list3))"
   ]
  },
  {
   "cell_type": "code",
   "execution_count": null,
   "metadata": {},
   "outputs": [],
   "source": [
    "# 32. Create a tuple of the first 5 prime numbers.\n",
    "list1=[]\n",
    "i=2\n",
    "while i <12 :\n",
    "    prime=True\n",
    "    for j in range(2,i):\n",
    "        if i%j==0:\n",
    "            prime=False\n",
    "            break\n",
    "    \n",
    "    if prime==True:\n",
    "        list1.append(i)\n",
    "    i+=1\n",
    "\n",
    "tuple1=tuple(list1)\n",
    "print(\"Tuple of first 5 prime number : \\n\",tuple1)"
   ]
  },
  {
   "cell_type": "code",
   "execution_count": null,
   "metadata": {},
   "outputs": [],
   "source": [
    "# 33. Check if a tuple is a palindrome.\n",
    "length=int(input(\"Enter length of tuple : \"))\n",
    "list1=[]\n",
    "for i in range(length):\n",
    "    list1.append(input(\"Enter elements :  \"))\n",
    "\n",
    "tuple1=tuple(list1)\n",
    "print(tuple1)\n",
    "tuple2=tuple1[::-1]\n",
    "print(tuple2)\n",
    "\n",
    "if tuple1==tuple2:\n",
    "    print(\"Tuples is palindrome.\")\n",
    "else:\n",
    "    print(\"Tuples are not palindrome\")"
   ]
  },
  {
   "cell_type": "code",
   "execution_count": null,
   "metadata": {},
   "outputs": [],
   "source": [
    "# 34. Create a tuple of squares of numbers from 1 to 5.\n",
    "list1=[]\n",
    "for i in range(5):\n",
    "    list1.append((i+1)*(i+1))\n",
    "\n",
    "tuple1=tuple(list1)\n",
    "print(tuple1)"
   ]
  },
  {
   "cell_type": "code",
   "execution_count": null,
   "metadata": {},
   "outputs": [],
   "source": [
    "# 35. Filter out all even numbers from a tuple.\n",
    "length=int(input(\"Enter length of tuple : \"))\n",
    "list1=[]\n",
    "for i in range(length):\n",
    "    list1.append(int(input(\"Enter elements :  \")))\n",
    "\n",
    "tuple1=tuple(list1)\n",
    "print(tuple1)\n",
    "\n",
    "list2=[]\n",
    "for i in tuple1:\n",
    "    if i%2==0:\n",
    "        list2.append(i)\n",
    "\n",
    "tuple2=tuple(list2)\n",
    "print(tuple2)"
   ]
  },
  {
   "cell_type": "code",
   "execution_count": null,
   "metadata": {},
   "outputs": [],
   "source": [
    "# 36. Multiply all elements in a tuple by 2\n",
    "length=int(input(\"Enter length of tuple : \"))\n",
    "list1=[]\n",
    "for i in range(length):\n",
    "    list1.append(int(input(\"Enter elements :  \")))\n",
    "\n",
    "tuple1=tuple(list1)\n",
    "print(\"Original tuple is : \",tuple1)\n",
    "list2=[]\n",
    "for i in tuple1:\n",
    "    list2.append(i*2)\n",
    "\n",
    "tuple2=tuple(list2)\n",
    "print(\"Modified tuple :\",tuple2)"
   ]
  },
  {
   "cell_type": "code",
   "execution_count": null,
   "metadata": {},
   "outputs": [],
   "source": [
    "# 37. Create a tuple of random numbers.\n",
    "import random\n",
    "length=int(input(\"Enter length of tuple : \"))\n",
    "list1=[]\n",
    "for i in range(length):\n",
    "    choice=random.randint(1,100)\n",
    "    list1.append(choice)\n",
    "\n",
    "tuple1=tuple(list1)\n",
    "print(\"tuple of random number is :\",tuple1)"
   ]
  },
  {
   "cell_type": "code",
   "execution_count": null,
   "metadata": {},
   "outputs": [],
   "source": [
    "# 38. Check if a tuple is sorted.\n",
    "length1=int(input(\"Enter length of tuple : \"))\n",
    "list1=[]\n",
    "for i in range(length1):\n",
    "    list1.append(int(input(\"Enter elements :  \")))\n",
    "\n",
    "tuple1=tuple(list1)\n",
    "print(tuple1)\n",
    "list2=sorted(tuple1)           #here op is in list\n",
    "Tuple1=tuple(list2)\n",
    "print(Tuple1)\n",
    "if tuple1==Tuple1:\n",
    "    print(\"The tuple is sorted.\")\n",
    "else:\n",
    "    print(\"Tuples is not sorted.\")"
   ]
  },
  {
   "cell_type": "code",
   "execution_count": null,
   "metadata": {},
   "outputs": [],
   "source": [
    "# 39. Rotate a tuple to the left by `n` positions.\n",
    "length=int(input(\"Enter length of tuple : \"))\n",
    "list1=[]\n",
    "for i in range(length):\n",
    "    list1.append(input(\"Enter elements :  \"))\n",
    "\n",
    "tuple1=tuple(list1)\n",
    "\n",
    "n=int(input(\"Enter the value of n for which you want to rotate : \"))\n",
    "\n",
    "n=n%length\n",
    "\n",
    "rotate_tuple=tuple1[n:]+tuple1[:n]\n",
    "\n",
    "print(\"Original tuple is : \",tuple1)\n",
    "print(f\"Modified tuple after {n}  rotations : \",rotate_tuple)"
   ]
  },
  {
   "cell_type": "code",
   "execution_count": null,
   "metadata": {},
   "outputs": [],
   "source": [
    "# 40. Rotate a tuple to the right by `n` positions.\n",
    "length=int(input(\"Enter length of tuple : \"))\n",
    "list1=[]\n",
    "for i in range(length):\n",
    "    list1.append(input(\"Enter elements :  \"))\n",
    "\n",
    "tuple1=tuple(list1)\n",
    "\n",
    "n=int(input(\"Enter the value of n for which you want to rotate : \"))\n",
    "\n",
    "n=n%length\n",
    "\n",
    "rotate_tuple=tuple1[-n:]+tuple1[:-n]\n",
    "\n",
    "print(\"Original tuple is : \",tuple1)\n",
    "print(f\"Modified tuple after {n}  rotations : \",rotate_tuple)"
   ]
  },
  {
   "cell_type": "code",
   "execution_count": null,
   "metadata": {},
   "outputs": [],
   "source": [
    "# 41. Create a tuple of the first 5 Fibonacci numbers.\n",
    "list1=[]\n",
    "fibo1=0\n",
    "fibo2=1\n",
    "list1.append(fibo1)\n",
    "list1.append(fibo2)\n",
    "for i in range(3):\n",
    "    fibo3=fibo1+fibo2\n",
    "    list1.append(fibo3)\n",
    "    fibo1=fibo2\n",
    "    fibo2=fibo3\n",
    "print(\"Tuple of first 5 fibonacci numbers : \",tuple(list1))"
   ]
  },
  {
   "cell_type": "code",
   "execution_count": null,
   "metadata": {},
   "outputs": [],
   "source": [
    "# 42. Create a tuple from user input.\n",
    "length=int(input(\"Enter length of tuple : \"))\n",
    "list1=[]\n",
    "for i in range(length):\n",
    "    list1.append(input(\"Enter elements :  \"))\n",
    "\n",
    "tuple1=tuple(list1)\n",
    "print(tuple1)"
   ]
  },
  {
   "cell_type": "code",
   "execution_count": null,
   "metadata": {},
   "outputs": [],
   "source": [
    "# 43. Swap two elements in a tuple.\n",
    "length1=int(input(\"Enter length of tuple : \"))\n",
    "list1=[]\n",
    "for i in range(length1):\n",
    "    list1.append(input(\"Enter elements :  \"))\n",
    "tuple1=tuple(list1)\n",
    "print(\"Original Tuple is : \",tuple1)\n",
    "\n",
    "a=int(input(\"Enter first  index : \"))\n",
    "b=int(input(\"Enter second index : \"))\n",
    "\n",
    "list1[a],list1[b]=list1[b],list1[a]\n",
    "print(\"Modified Tuple is : \",tuple(list1))"
   ]
  },
  {
   "cell_type": "code",
   "execution_count": null,
   "metadata": {},
   "outputs": [],
   "source": [
    "# 44. Reverse the elements of a tuple.\n",
    "length=int(input(\"Enter length of tuple : \"))\n",
    "list1=[]\n",
    "for i in range(length):\n",
    "    list1.append(input(\"Enter elements :  \"))\n",
    "\n",
    "tuple1=tuple(list1)\n",
    "print(\"Original tuple  :\",tuple1)\n",
    "tuple2=tuple1[::-1]\n",
    "print(\"Reversed Tuple :\",tuple2)"
   ]
  },
  {
   "cell_type": "code",
   "execution_count": null,
   "metadata": {},
   "outputs": [],
   "source": [
    "# 45. Create a tuple of the first `n` powers of 2.\n",
    "length =int(input(\"Enter length of tuple : \"))\n",
    "list1=[]\n",
    "for i in range(length):\n",
    "    list1.append(2**i)\n",
    "\n",
    "tuple1=tuple(list1)\n",
    "print(tuple1)"
   ]
  },
  {
   "cell_type": "code",
   "execution_count": null,
   "metadata": {},
   "outputs": [],
   "source": [
    "# 46. Find the longest string in a tuple of strings.\n",
    "length=int(input(\"Enter length of tuple : \"))\n",
    "list1=[]\n",
    "for i in range(length):\n",
    "    list1.append(input(\"Enter elements :  \"))\n",
    "\n",
    "tuple1=tuple(list1)\n",
    "print(tuple1)\n",
    "a=max(tuple1,key=len)\n",
    "\n",
    "print(\"Longest string in tuple is : \",a)"
   ]
  },
  {
   "cell_type": "code",
   "execution_count": null,
   "metadata": {},
   "outputs": [],
   "source": [
    "# 47. Find the shortest string in a tuple of strings.\n",
    "length=int(input(\"Enter length of tuple : \"))\n",
    "list1=[]\n",
    "for i in range(length):\n",
    "    list1.append(input(\"Enter elements :  \"))\n",
    "\n",
    "tuple1=tuple(list1)\n",
    "print(tuple1)\n",
    "a=min(tuple1,key=len)\n",
    "\n",
    "print(\"Shortest string in tuple is : \",a)"
   ]
  },
  {
   "cell_type": "code",
   "execution_count": null,
   "metadata": {},
   "outputs": [],
   "source": [
    "# 48. Create a tuple of the first `n` triangular numbers.\n",
    "n=int(input(\"Enter the length : \"))\n",
    "list1=[]\n",
    "for i in range(n):\n",
    "    list1.append(((i+1)*(i+2))//2)\n",
    "tuple1=tuple(list1)\n",
    "print(tuple1)"
   ]
  },
  {
   "cell_type": "code",
   "execution_count": null,
   "metadata": {},
   "outputs": [],
   "source": [
    "# 49. Check if a tuple contains another tuple as a subsequence.\n",
    "length1=int(input(\"Enter length of tuple : \"))\n",
    "list1=[]\n",
    "for i in range(length1):\n",
    "    list1.append(input(\"Enter elements :  \"))\n",
    "\n",
    "tuple1=tuple(list1)\n",
    "\n",
    "length2=int(input(\"Enter length of tuple : \"))\n",
    "list2=[]\n",
    "for i in range(length2):\n",
    "    list2.append(input(\"Enter elements :  \"))\n",
    "\n",
    "tuple2=tuple(list2)\n",
    "\n",
    "if tuple2[0] in tuple1:\n",
    "    a=tuple1.index(tuple2[0])\n",
    "    if tuple1[a:length2+a]==tuple2:\n",
    "        print(\"Tuple1 contain tuple2 \")\n",
    "    else:\n",
    "        print(\"Tuple 1 does not contain tuple 2 as a subsequence.\")"
   ]
  },
  {
   "cell_type": "code",
   "execution_count": null,
   "metadata": {},
   "outputs": [],
   "source": [
    "# 50. Create a tuple of alternating 1s and 0s of length `n`.\n",
    "n=int(input(\"Enter length of tuple :\"))\n",
    "list1=[]\n",
    "for i in range(n):\n",
    "    if i%2==0:\n",
    "        list1.append(0)\n",
    "    else:\n",
    "        list1.append(1)\n",
    "tuple1=tuple(list1)\n",
    "print(tuple1)"
   ]
  },
  {
   "cell_type": "markdown",
   "metadata": {},
   "source": [
    "SET"
   ]
  },
  {
   "cell_type": "code",
   "execution_count": null,
   "metadata": {},
   "outputs": [],
   "source": [
    "# 1. Create a set with integers from 1 to 5.\n",
    "s={}\n",
    "set1=set(s)\n",
    "for i in range(5):\n",
    "    set1.add(i+1)\n",
    "print(set1)"
   ]
  },
  {
   "cell_type": "code",
   "execution_count": null,
   "metadata": {},
   "outputs": [],
   "source": [
    "# 2. Add an element to a set.\n",
    "set1={1,2,3,4,5}\n",
    "number=int(input(\"enter element : \"))\n",
    "print(\"Original number : \",set1)\n",
    "set1.add(number)\n",
    "print(\"Original number :\",set1)"
   ]
  },
  {
   "cell_type": "code",
   "execution_count": null,
   "metadata": {},
   "outputs": [],
   "source": [
    "# 3. Remove an element from a set.\n",
    "s={}\n",
    "set1=set(s)\n",
    "length=int(input(\"Enter length of set : \"))\n",
    "for i in range(length):\n",
    "    set1.add(input(\"Enter element : \"))\n",
    "print(set1)\n",
    "\n",
    "remove_element=input(\"Enter element which you want to remove : \")\n",
    "set1.remove(remove_element)\n",
    "print(set1)"
   ]
  },
  {
   "cell_type": "code",
   "execution_count": null,
   "metadata": {},
   "outputs": [],
   "source": [
    "# 4. Check if an element exists in a set.\n",
    "s={}\n",
    "set1=set(s)\n",
    "length=int(input(\"Enter length of set : \"))\n",
    "for i in range(length):\n",
    "    set1.add(input(\"Enter element : \"))\n",
    "print(set1)\n",
    "\n",
    "exist=input(\"Enter element : \")\n",
    "condition =True\n",
    "for i in set1:\n",
    "    if exist==i:\n",
    "        condition=True\n",
    "        break\n",
    "    else:\n",
    "        condition =False\n",
    "\n",
    "if condition==True:\n",
    "    print(f\"{exist} is present in set\")\n",
    "else:\n",
    "    print(f\"{exist} is not present in set.\")"
   ]
  },
  {
   "cell_type": "code",
   "execution_count": null,
   "metadata": {},
   "outputs": [],
   "source": [
    "# 5. Find the length of a set without using the `len()` function.\n",
    "set1={1,2,3,4,5,6,7,8,9,0,10,11}\n",
    "count=0\n",
    "for i in set1:\n",
    "    count+=1\n",
    "print(\"The length of set :\",count)"
   ]
  },
  {
   "cell_type": "code",
   "execution_count": null,
   "metadata": {},
   "outputs": [],
   "source": [
    "# 6. Clear all elements from a set.\n",
    "s={}\n",
    "set1=set(s)\n",
    "length=int(input(\"Enter length of set : \"))\n",
    "for i in range(length):\n",
    "    set1.add(input(\"Enter element : \"))\n",
    "print(set1)\n",
    "\n",
    "set1.clear()\n",
    "print(set1)"
   ]
  },
  {
   "cell_type": "code",
   "execution_count": null,
   "metadata": {},
   "outputs": [],
   "source": [
    "# 7. Create a set of even numbers from 1 to 10.\n",
    "s={}\n",
    "set1=set(s)\n",
    "for i in range(10):\n",
    "    if (i+1)%2==0:\n",
    "        set1.add(i+1)\n",
    "print(set1)"
   ]
  },
  {
   "cell_type": "code",
   "execution_count": null,
   "metadata": {},
   "outputs": [],
   "source": [
    "# 8. Create a set of odd numbers from 1 to 10.\n",
    "s={}\n",
    "set1=set(s)\n",
    "for i in range(10):\n",
    "    if (i+1)%2 !=0:\n",
    "        set1.add(i+1)\n",
    "print(set1)"
   ]
  },
  {
   "cell_type": "code",
   "execution_count": null,
   "metadata": {},
   "outputs": [],
   "source": [
    "# 9. Find the union of two sets.\n",
    "s={}\n",
    "set1=set(s)\n",
    "length1=int(input(\"Enter length of set : \"))\n",
    "for i in range(length1):\n",
    "    set1.add(input(\"Enter element : \"))\n",
    "print(set1)\n",
    "\n",
    "s={}\n",
    "set2=set(s)\n",
    "length2=int(input(\"Enter length of set : \"))\n",
    "for i in range(length2):\n",
    "    set2.add(input(\"Enter element : \"))\n",
    "\n",
    "print(set2)\n",
    "\n",
    "print(set1.union(set2))"
   ]
  },
  {
   "cell_type": "code",
   "execution_count": null,
   "metadata": {},
   "outputs": [],
   "source": [
    "# 10. Find the intersection of two sets.\n",
    "s={}\n",
    "set1=set(s)\n",
    "length1=int(input(\"Enter length of set : \"))\n",
    "for i in range(length1):\n",
    "    set1.add(input(\"Enter element : \"))\n",
    "print(set1)\n",
    "\n",
    "s={}\n",
    "set2=set(s)\n",
    "length2=int(input(\"Enter length of set : \"))\n",
    "for i in range(length2):\n",
    "    set2.add(input(\"Enter element : \"))\n",
    "\n",
    "print(set2)\n",
    "\n",
    "print(set1.intersection(set2))"
   ]
  },
  {
   "cell_type": "code",
   "execution_count": null,
   "metadata": {},
   "outputs": [],
   "source": [
    "# 11. Find the difference between two sets.\n",
    "s={}\n",
    "set1=set(s)\n",
    "length1=int(input(\"Enter length of set : \"))\n",
    "for i in range(length1):\n",
    "    set1.add(input(\"Enter element : \"))\n",
    "print(set1)\n",
    "\n",
    "s={}\n",
    "set2=set(s)\n",
    "length2=int(input(\"Enter length of set : \"))\n",
    "for i in range(length2):\n",
    "    set2.add(input(\"Enter element : \"))\n",
    "\n",
    "print(set2)\n",
    "\n",
    "print(set1.difference(set2))"
   ]
  },
  {
   "cell_type": "code",
   "execution_count": null,
   "metadata": {},
   "outputs": [],
   "source": [
    "# 12. Check if a set is a subset of another set.\n",
    "set1=set()\n",
    "length1=int(input(\"Enter length of set : \"))\n",
    "for i in range(length1):\n",
    "    set1.add(input(\"Enter element : \"))\n",
    "print(set1)\n",
    "\n",
    "set2=set()\n",
    "length2=int(input(\"Enter length of set : \"))\n",
    "for i in range(length2):\n",
    "    set2.add(input(\"Enter element : \"))\n",
    "print(set2)\n",
    "\n",
    "print(\"Set1 is a subset of set2 : \",set1.issubset(set2))\n",
    "print(\"Set12 is a subset of set1 : \",set2.issubset(set1))"
   ]
  },
  {
   "cell_type": "code",
   "execution_count": null,
   "metadata": {},
   "outputs": [],
   "source": [
    "# 13. Check if a set is a superset of another set.\n",
    "set1=set()\n",
    "length1=int(input(\"Enter length of set : \"))\n",
    "for i in range(length1):\n",
    "    set1.add(input(\"Enter element : \"))\n",
    "print(set1)\n",
    "\n",
    "set2=set()\n",
    "length2=int(input(\"Enter length of set : \"))\n",
    "for i in range(length2):\n",
    "    set2.add(input(\"Enter element : \"))\n",
    "print(set2)\n",
    "\n",
    "print(\"Set1 is a superset of set2 : \",set1.issuperset(set2))"
   ]
  },
  {
   "cell_type": "code",
   "execution_count": null,
   "metadata": {},
   "outputs": [],
   "source": [
    "# 14. Create a set from a list.\n",
    "list1=[]\n",
    "length=int(input(\"Enter length of list : \"))\n",
    "for i in range(length):\n",
    "    list1.append(input(\"Enter elements : \"))\n",
    "\n",
    "set1=set(list1)\n",
    "print(set1)"
   ]
  },
  {
   "cell_type": "code",
   "execution_count": null,
   "metadata": {},
   "outputs": [],
   "source": [
    "# 15. Convert a set to a list.\n",
    "length=int(input(\"Enter length : \"))\n",
    "s1={}\n",
    "set1=set(s1)\n",
    "for i in range(length):\n",
    "    set1.add(input(\"Enter element : \"))\n",
    "\n",
    "print(\"Original set is :\",set1)\n",
    "print(\"Conerting in list : \",list(set1))"
   ]
  },
  {
   "cell_type": "code",
   "execution_count": null,
   "metadata": {},
   "outputs": [],
   "source": [
    "# 16. Remove a random element from a set.\n",
    "import random\n",
    "s={}\n",
    "set1=set(s)\n",
    "length=int(input(\"Enter length of set : \"))\n",
    "for i in range(length):\n",
    "    set1.add(input(\"Enter element : \"))\n",
    "print(set1)\n",
    "\n",
    "random_element=random.choice(list(set1))\n",
    "set1.remove(random_element)\n",
    "print(set1)"
   ]
  },
  {
   "cell_type": "code",
   "execution_count": null,
   "metadata": {},
   "outputs": [],
   "source": [
    "# 17. Pop an element from a set.\n",
    "s={}\n",
    "set1=set(s)\n",
    "length=int(input(\"Enter length of set : \"))\n",
    "for i in range(length):\n",
    "    set1.add(input(\"Enter element : \"))\n",
    "print(set1)\n",
    "\n",
    "popped_element=set1.pop()\n",
    "print(popped_element)\n",
    "print(set1)"
   ]
  },
  {
   "cell_type": "code",
   "execution_count": null,
   "metadata": {},
   "outputs": [],
   "source": [
    "# 18. Check if two sets have no elements in common.\n",
    "s={}\n",
    "set1=set(s)\n",
    "length1=int(input(\"Enter length of set : \"))\n",
    "for i in range(length1):\n",
    "    set1.add(input(\"Enter element : \"))\n",
    "print(set1)\n",
    "\n",
    "s={}\n",
    "set2=set(s)\n",
    "length2=int(input(\"Enter length of set : \"))\n",
    "for i in range(length2):\n",
    "    set2.add(input(\"Enter element : \"))\n",
    "print(set2)\n",
    "\n",
    "a=set1.intersection(set2)\n",
    "if len(a)==0:\n",
    "    print(\"There is no elements present between two set.\")\n",
    "else:\n",
    "    print(\"There are many elements present in between sets. \\n\",a)"
   ]
  },
  {
   "cell_type": "code",
   "execution_count": null,
   "metadata": {},
   "outputs": [],
   "source": [
    "# 19. Find the symmetric difference between two sets.\n",
    "s={}\n",
    "set1=set(s)\n",
    "length1=int(input(\"Enter length of set : \"))\n",
    "for i in range(length1):\n",
    "    set1.add(input(\"Enter element : \"))\n",
    "print(set1)\n",
    "\n",
    "s={}\n",
    "set2=set(s)\n",
    "length2=int(input(\"Enter length of set : \"))\n",
    "for i in range(length2):\n",
    "    set2.add(input(\"Enter element : \"))\n",
    "print(set2)\n",
    "\n",
    "a=set1.intersection(set2)\n",
    "for i in a:\n",
    "    set1.remove(i)\n",
    "    set2.remove(i)\n",
    "set1.update(set2)\n",
    "print(set1)"
   ]
  },
  {
   "cell_type": "code",
   "execution_count": null,
   "metadata": {},
   "outputs": [],
   "source": [
    "# 20. Update a set with elements from another set.\n",
    "s={}\n",
    "set1=set(s)\n",
    "length1=int(input(\"Enter length of set : \"))\n",
    "for i in range(length1):\n",
    "    set1.add(input(\"Enter element : \"))\n",
    "print(set1)\n",
    "\n",
    "s={}\n",
    "set2=set(s)\n",
    "length2=int(input(\"Enter length of set : \"))\n",
    "for i in range(length2):\n",
    "    set2.add(input(\"Enter element : \"))\n",
    "print(set2)\n",
    "\n",
    "set1.update(set2)\n",
    "print(\"After that new set is :\\n\",set1)"
   ]
  },
  {
   "cell_type": "code",
   "execution_count": null,
   "metadata": {},
   "outputs": [],
   "source": [
    "# 21. Create a set of the first 5 prime numbers.\n",
    "set1=set()\n",
    "i=2\n",
    "while i<12:\n",
    "    prime=True\n",
    "    for j in range(2,(i//2)+1):\n",
    "        if  i%j ==0:\n",
    "            prime=False\n",
    "            break\n",
    "    if prime==True:\n",
    "        set1.add(i)\n",
    "    i+=1   \n",
    "print(\"Set of first 5 prime number : \\n\",set1)"
   ]
  },
  {
   "cell_type": "code",
   "execution_count": null,
   "metadata": {},
   "outputs": [],
   "source": [
    "# 22. Check if two sets are identical.\n",
    "s={}\n",
    "set1=set(s)\n",
    "length1=int(input(\"Enter length of set : \"))\n",
    "for i in range(length1):\n",
    "    set1.add(input(\"Enter element : \"))\n",
    "print(set1)\n",
    "\n",
    "s={}\n",
    "set2=set(s)\n",
    "length2=int(input(\"Enter length of set : \"))\n",
    "for i in range(length2):\n",
    "    set2.add(input(\"Enter element : \"))\n",
    "print(set2)\n",
    "\n",
    "\n",
    "if set1==set2:\n",
    "    print(\"Sets are identical.\")\n",
    "else:\n",
    "    print(\"Sets are not identical.\")"
   ]
  },
  {
   "cell_type": "code",
   "execution_count": null,
   "metadata": {},
   "outputs": [],
   "source": [
    "# 23. Create a frozen set.\n",
    "list1=[1,2,3,4,5,6,7,8,9,0]\n",
    "frozen_set=frozenset(list1)\n",
    "print(\"Frozen set is : \",frozen_set)"
   ]
  },
  {
   "cell_type": "code",
   "execution_count": null,
   "metadata": {},
   "outputs": [],
   "source": [
    "# 24. Check if a set is disjoint with another set.\n",
    "s={}\n",
    "set1=set(s)\n",
    "length1=int(input(\"Enter length of set : \"))\n",
    "for i in range(length1):\n",
    "    set1.add(input(\"Enter element : \"))\n",
    "print(set1)\n",
    "\n",
    "s={}\n",
    "set2=set(s)\n",
    "length2=int(input(\"Enter length of set : \"))\n",
    "for i in range(length2):\n",
    "    set2.add(input(\"Enter element : \"))\n",
    "print(set2)\n",
    "\n",
    "a=set1.intersection(set2)\n",
    "if len(a)==0:\n",
    "    print(\"They are  disjoint set.\")\n",
    "else:\n",
    "    print(\"They are not disjoint sets.\")"
   ]
  },
  {
   "cell_type": "code",
   "execution_count": null,
   "metadata": {},
   "outputs": [],
   "source": [
    "# 25. Create a set of squares of numbers from 1 to 5.\n",
    "s={}\n",
    "set1=set(s)\n",
    "for i in range(5):\n",
    "    set1.add((i+1)**2)\n",
    "print(set1)"
   ]
  },
  {
   "cell_type": "code",
   "execution_count": null,
   "metadata": {},
   "outputs": [],
   "source": [
    "# 26. Filter out all even numbers from a set.\n",
    "s={}\n",
    "set1=set(s)\n",
    "length=int(input(\"Enter length of set : \"))\n",
    "for i in range(length):\n",
    "    set1.add(int(input(\"Enter element : \")))\n",
    "print(set1)\n",
    "\n",
    "y={}\n",
    "set2=set(y)\n",
    "for i in set1:\n",
    "    if i%2==0:\n",
    "        set2.add(i)\n",
    "\n",
    "print(set2)"
   ]
  },
  {
   "cell_type": "code",
   "execution_count": null,
   "metadata": {},
   "outputs": [],
   "source": [
    "# 27. Multiply all elements in a set by 2.\n",
    "s={}\n",
    "set1=set(s)\n",
    "length=int(input(\"Enter length of set : \"))\n",
    "for i in range(length):\n",
    "    set1.add(int(input(\"Enter element : \")))\n",
    "print(\"Original set :\",set1)\n",
    "\n",
    "set2=set()\n",
    "for i in set1:\n",
    "    set2.add(i*2)\n",
    "print(\"Modified set : \",set2)"
   ]
  },
  {
   "cell_type": "code",
   "execution_count": null,
   "metadata": {},
   "outputs": [],
   "source": [
    "# 28. Create a set of random numbers.\n",
    "import random\n",
    "\n",
    "length=int(input(\"Enter length of set : \"))\n",
    "set1=set()\n",
    "for i in range(length):\n",
    "    a=random.randint(1,100)\n",
    "    set1.add(a)\n",
    "print(\"Set of random number is :\\n\",set1)"
   ]
  },
  {
   "cell_type": "code",
   "execution_count": null,
   "metadata": {},
   "outputs": [],
   "source": [
    "# 29. Check if a set is empty.\n",
    "set1=set()\n",
    "if len(set1)==0:\n",
    "    print(\"Set is empty.\")\n",
    "else:\n",
    "    print(\"Set s not empty.\")"
   ]
  },
  {
   "cell_type": "code",
   "execution_count": null,
   "metadata": {},
   "outputs": [],
   "source": [
    "# 30. Create a nested set .(hint : use frozenset)\n",
    "n=int(input(\"Enter length of that set  : \"))\n",
    "original_set=set()\n",
    "\n",
    "for i in range(n):\n",
    "    set1=set()\n",
    "    length1=int(input(\"Enter length of set at that place : \"))\n",
    "    for i in range(length1):\n",
    "        set1.add(input(\"Enter element : \"))\n",
    "        Set1=frozenset(set1)\n",
    "    original_set.add(Set1)\n",
    "print(original_set)"
   ]
  },
  {
   "cell_type": "code",
   "execution_count": null,
   "metadata": {},
   "outputs": [],
   "source": [
    "# 31. Remove an element from a set using the discard method.\n",
    "s={}\n",
    "set1=set(s)\n",
    "length=int(input(\"Enter length of set : \"))\n",
    "for i in range(length):\n",
    "    set1.add(input(\"Enter element : \"))\n",
    "print(set1)\n",
    "\n",
    "remove_element=input(\"Enter element which you want to remove : \")\n",
    "set1.discard(remove_element)\n",
    "print(set1)"
   ]
  },
  {
   "cell_type": "code",
   "execution_count": null,
   "metadata": {},
   "outputs": [],
   "source": [
    "# 32. Compare two sets.\n",
    "set1=set()\n",
    "length1=int(input(\"Enter length of set : \"))\n",
    "for i in range(length1):\n",
    "    set1.add(input(\"Enter element : \"))\n",
    "Set1=sorted(set1)\n",
    "print(Set1)\n",
    "\n",
    "set2=set()\n",
    "length2=int(input(\"Enter length of set : \"))\n",
    "for i in range(length2):\n",
    "    set2.add(input(\"Enter element : \"))\n",
    "Set2=sorted(set2)\n",
    "print(Set2)\n",
    "\n",
    "a=set1.issubset(set2)\n",
    "b=set1.issuperset(set2)\n",
    "c=set1.isdisjoint(set2)\n",
    "d=set1.union(set2)\n",
    "e=set1.intersection(set2)\n",
    "f=set1.difference(set2)\n",
    "\n",
    "print(\"Set1 :\",set1)\n",
    "print(\"Set2 :\",set2)\n",
    "print(\"Is set1 is a subset of set2  :  \",a)\n",
    "print(\"Is set1 is a superset of set2 : \",b)\n",
    "print(\"Is set1 is a disjoint set of set2 : \",c)\n",
    "print(\"Unionof set1 and set2  : \",d)\n",
    "print(\"Intersection of set1 and set2 : \",e)\n",
    "print(\"set1-set2 : \",f)"
   ]
  },
  {
   "cell_type": "code",
   "execution_count": null,
   "metadata": {},
   "outputs": [],
   "source": [
    "# 33. Create a set from a string.\n",
    "input_string=input(\"Enter string : \")\n",
    "set1=set(input_string)\n",
    "print(\"Set of input string is \\n\",set1)"
   ]
  },
  {
   "cell_type": "code",
   "execution_count": null,
   "metadata": {},
   "outputs": [],
   "source": [
    "# 34. Convert a set of strings to a set of integers.\n",
    "s={}\n",
    "set1=set(s)\n",
    "length=int(input(\"Enter length of set : \"))\n",
    "for i in range(length):\n",
    "    set1.add(input(\"Enter element : \"))\n",
    "print(\"Set of strings : \",set1)\n",
    "\n",
    "set2=set()\n",
    "for i in set1:\n",
    "    a=int(i)\n",
    "    set2.add(a)\n",
    "print(\"Set of integers : \",set2)"
   ]
  },
  {
   "cell_type": "code",
   "execution_count": null,
   "metadata": {},
   "outputs": [],
   "source": [
    "# 35. Convert a set of integers to a set of strings.\n",
    "s={}\n",
    "set1=set(s)\n",
    "length=int(input(\"Enter length of set : \"))\n",
    "for i in range(length):\n",
    "    set1.add(int(input(\"Enter element : \")))\n",
    "print(\"Set of integers : \",set1)\n",
    "\n",
    "set2=set()\n",
    "for i in set1:\n",
    "    a=str(i)\n",
    "    set2.add(a)\n",
    "print(\"Set of string : \",set2)"
   ]
  },
  {
   "cell_type": "code",
   "execution_count": null,
   "metadata": {},
   "outputs": [],
   "source": [
    "# 36. Create a set from a tuple.\n",
    "tuple1=(1,2,3,4,5,6,7,8,9,0)\n",
    "set1=set(tuple1)\n",
    "print(set1)"
   ]
  },
  {
   "cell_type": "code",
   "execution_count": null,
   "metadata": {},
   "outputs": [],
   "source": [
    "# 37. Convert a set to a tuple.\n",
    "set1={1,2,3,4,5,6,7,8,9,0}\n",
    "tuple1=tuple(set1)\n",
    "print(tuple1)"
   ]
  },
  {
   "cell_type": "code",
   "execution_count": null,
   "metadata": {},
   "outputs": [],
   "source": [
    "# 38. Find the maximum value in a set.\n",
    "s={}\n",
    "set1=set(s)\n",
    "length=int(input(\"Enter length of set : \"))\n",
    "for i in range(length):\n",
    "    set1.add(int(input(\"Enter element : \")))\n",
    "print(set1)\n",
    "\n",
    "a=max(set1)\n",
    "print(\"Maximum number in set is : \",a)"
   ]
  },
  {
   "cell_type": "code",
   "execution_count": null,
   "metadata": {},
   "outputs": [],
   "source": [
    "# 39. Find the minimum value in a set.\n",
    "s={}\n",
    "set1=set(s)\n",
    "length=int(input(\"Enter length of set : \"))\n",
    "for i in range(length):\n",
    "    set1.add(int(input(\"Enter element : \")))\n",
    "print(set1)\n",
    "\n",
    "a=min(set1)\n",
    "print(\"Minimum number in set is : \",a)"
   ]
  },
  {
   "cell_type": "code",
   "execution_count": null,
   "metadata": {},
   "outputs": [],
   "source": [
    "# 40. Create a set from user input.\n",
    "s={}\n",
    "set1=set(s)\n",
    "length=int(input(\"Enter length of set : \"))\n",
    "for i in range(length):\n",
    "    set1.add(input(\"Enter element : \"))\n",
    "print(set1)"
   ]
  },
  {
   "cell_type": "code",
   "execution_count": null,
   "metadata": {},
   "outputs": [],
   "source": [
    "# 41. Check if the intersection of two sets is empty.\n",
    "s={}\n",
    "set1=set(s)\n",
    "length1=int(input(\"Enter length of set : \"))\n",
    "for i in range(length1):\n",
    "    set1.add(input(\"Enter element : \"))\n",
    "print(set1)\n",
    "\n",
    "s={}\n",
    "set2=set(s)\n",
    "length2=int(input(\"Enter length of set : \"))\n",
    "for i in range(length2):\n",
    "    set2.add(input(\"Enter element : \"))\n",
    "print(set2)\n",
    "\n",
    "a=set1.intersection(set2)\n",
    "if len(a)==0:\n",
    "    print(\"Intersection set is empty\")\n",
    "else:\n",
    "    print(\"Intersection set is not empty \")"
   ]
  },
  {
   "cell_type": "code",
   "execution_count": null,
   "metadata": {},
   "outputs": [],
   "source": [
    "# 42. Create a set of the first 5 Fibonacci numbers.\n",
    "set1=set()\n",
    "\n",
    "fibb1=0\n",
    "fibb2=1\n",
    "\n",
    "set1.add(fibb1)\n",
    "set1.add(fibb2)\n",
    "\n",
    "for i in range(4):\n",
    "    a=fibb1+fibb2                       #in fibbnacci series 1 come two times but set consider only one time\n",
    "    set1.add(a)\n",
    "    fibb1=fibb2\n",
    "    fibb2=a\n",
    "\n",
    "print(\"Fibonacci series is \\n\",set1)"
   ]
  },
  {
   "cell_type": "code",
   "execution_count": null,
   "metadata": {},
   "outputs": [],
   "source": [
    "# 43. Remove duplicates from a list using sets.\n",
    "list1=[]\n",
    "length=int(input(\"Enter length of list : \"))\n",
    "for i in range(length):\n",
    "    list1.append(input(\"Enter elements : \"))\n",
    "print(\"Original list : \",list1)\n",
    "print(\"Modified list : \",list(set(list1)))"
   ]
  },
  {
   "cell_type": "code",
   "execution_count": null,
   "metadata": {},
   "outputs": [],
   "source": [
    "# 44. Check if two sets have the same elements, regardless of their count.\n",
    "set1=set()\n",
    "length1=int(input(\"Enter length of set : \"))\n",
    "for i in range(length1):\n",
    "    set1.add(input(\"Enter element : \"))\n",
    "print(set1)\n",
    "\n",
    "set2=set()\n",
    "length2=int(input(\"Enter length of set : \"))\n",
    "for i in range(length2):\n",
    "    set2.add(input(\"Enter element : \"))\n",
    "print(set2)\n",
    "\n",
    "a=set1.issubset(set2)\n",
    "b=set2.issubset(set1)\n",
    "\n",
    "if a==True or b==True:\n",
    "    print(\"Both sets have same elements.\")\n",
    "else:\n",
    "    print(\"Both sets have not same elements.\")"
   ]
  },
  {
   "cell_type": "code",
   "execution_count": null,
   "metadata": {},
   "outputs": [],
   "source": [
    "# 45. Create a set of the first `n` powers of 2.\n",
    "set1=set()\n",
    "n=int(input(\"Enter elements :\"))\n",
    "for i in range(n):\n",
    "    set1.add(2**i)\n",
    "\n",
    "print(set1)"
   ]
  },
  {
   "cell_type": "code",
   "execution_count": null,
   "metadata": {},
   "outputs": [],
   "source": [
    "# 46. Find the common elements between a set and a list.\n",
    "length=int(input(\"Enter length of list : \"))\n",
    "list1=[]\n",
    "for i in range(length):\n",
    "    element=(input(\"Enter element : \"))\n",
    "    list1.append(element)\n",
    "print(list1)\n",
    "\n",
    "set1=set()\n",
    "length=int(input(\"Enter length of set : \"))\n",
    "for i in range(length):\n",
    "    set1.add(input(\"Enter element : \"))\n",
    "print(set1)\n",
    "\n",
    "list2=[]\n",
    "for i in list1:\n",
    "    if i in set1:\n",
    "        list2.append(i)\n",
    "\n",
    "print(\"Common elements are : \\n\",list2)"
   ]
  },
  {
   "cell_type": "code",
   "execution_count": null,
   "metadata": {},
   "outputs": [],
   "source": [
    "# 47. Create a set of the first `n` triangular numbers.\n",
    "set1=set()\n",
    "n=int(input(\"Enter elements :\"))\n",
    "for i in range(n):\n",
    "    set1.add((i+1)*(i+2)//2)\n",
    "\n",
    "print(set1)"
   ]
  },
  {
   "cell_type": "code",
   "execution_count": null,
   "metadata": {},
   "outputs": [],
   "source": [
    "# 48. Check if a set contains another set as a subset.\n",
    "set1=set()\n",
    "length1=int(input(\"Enter length of set : \"))\n",
    "for i in range(length1):\n",
    "    set1.add(input(\"Enter element : \"))\n",
    "print(set1)\n",
    "\n",
    "set2=set()\n",
    "length2=int(input(\"Enter length of set : \"))\n",
    "for i in range(length2):\n",
    "    set2.add(input(\"Enter element : \"))\n",
    "print(set2)\n",
    "\n",
    "a=set2.issubset(set1)\n",
    "\n",
    "if a==True:\n",
    "    print(\"Set2 is a subset of set1.\")\n",
    "\n",
    "else:\n",
    "    print(\"Set2 is not a subset of set1.\")"
   ]
  },
  {
   "cell_type": "code",
   "execution_count": null,
   "metadata": {},
   "outputs": [],
   "source": [
    "# 49. Create a set of alternating 1s and 0s of length `n`.\n",
    "set1=set()\n",
    "n=int(input(\"Enter length of set : \"))\n",
    "for i in range(n):\n",
    "    if i%2==0:\n",
    "        set1.add(0)\n",
    "    else:\n",
    "        set1.add(1)\n",
    "print(set1)                              #op is {0,1} because set does not contain duplicate item "
   ]
  },
  {
   "cell_type": "code",
   "execution_count": null,
   "metadata": {},
   "outputs": [],
   "source": [
    "# 50. Merge multiple sets into one.\n",
    "number_of_set=int(input(\"Enter number of sets : \"))\n",
    "set1=set()\n",
    "for i in range(1,number_of_set+1):\n",
    "    length=int(input(f\"Enter length of set{i}  : \"))\n",
    "    i=set()\n",
    "    for j in range(length):\n",
    "        i.add(input(\"Enter elements : \"))\n",
    "    print(f\"Set is : \",i)\n",
    "    set1.update(i)    \n",
    "print(set1)"
   ]
  }
 ],
 "metadata": {
  "kernelspec": {
   "display_name": "Python 3",
   "language": "python",
   "name": "python3"
  },
  "language_info": {
   "name": "python",
   "version": "3.11.4"
  }
 },
 "nbformat": 4,
 "nbformat_minor": 2
}
